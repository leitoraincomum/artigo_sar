{
 "cells": [
  {
   "cell_type": "code",
   "execution_count": 1,
   "id": "ce077cdb",
   "metadata": {},
   "outputs": [],
   "source": [
    "#Carregando  bibliotecas\n",
    "import pandas as pd\n",
    "import io\n",
    "import os\n",
    "import csv"
   ]
  },
  {
   "cell_type": "code",
   "execution_count": 2,
   "id": "0df9ac00",
   "metadata": {},
   "outputs": [],
   "source": [
    "caminho_arquivo = 'Dataset/obras.csv'"
   ]
  },
  {
   "cell_type": "markdown",
   "id": "73b44867",
   "metadata": {},
   "source": [
    "# Checando se o caminho do arquivo é válido"
   ]
  },
  {
   "cell_type": "code",
   "execution_count": 3,
   "id": "395bb65e",
   "metadata": {},
   "outputs": [
    {
     "name": "stdout",
     "output_type": "stream",
     "text": [
      "Arquivo existe? True\n",
      "Arquivo pode ser aberto!\n"
     ]
    }
   ],
   "source": [
    "print('Arquivo existe?', os.path.exists(caminho_arquivo))\n",
    "try:\n",
    "    with open(caminho_arquivo, 'r', encoding='utf-8') as f:\n",
    "        print('Arquivo pode ser aberto!')\n",
    "except Exception as e:\n",
    "    print('Erro ao abrir o arquivo:', e)"
   ]
  },
  {
   "cell_type": "markdown",
   "id": "7e5679fd",
   "metadata": {},
   "source": [
    "# Checando a quantidade de linhas do arquivo que não estão em coformidade"
   ]
  },
  {
   "cell_type": "code",
   "execution_count": 6,
   "id": "f81cf153",
   "metadata": {},
   "outputs": [
    {
     "name": "stdout",
     "output_type": "stream",
     "text": [
      "A quantidade de linhas com mais de 9 colunas é: 141\n"
     ]
    }
   ],
   "source": [
    "with open(caminho_arquivo, 'r', encoding='utf-8') as f:\n",
    "    cont = 0\n",
    "    for i, linha in enumerate(f):\n",
    "        if linha.count(';')+1 > 9: #contar somente as linhas com mais de 9 colunas\n",
    "            cont +=1\n",
    "    print(f\"A quantidade de linhas com mais de 9 colunas é: {cont}\")"
   ]
  },
  {
   "cell_type": "markdown",
   "id": "880d420e",
   "metadata": {},
   "source": [
    "# Primeiro teste de normalização dos dados"
   ]
  },
  {
   "cell_type": "code",
   "execution_count": 8,
   "id": "8971790c",
   "metadata": {},
   "outputs": [],
   "source": [
    "# fazendo alterações do arquivo para o separador\n",
    "texto_normalizado = caminho_arquivo.replace(',', ';')"
   ]
  },
  {
   "cell_type": "code",
   "execution_count": 9,
   "id": "cfac7002",
   "metadata": {},
   "outputs": [],
   "source": [
    "arquivo_normalizado = io.StringIO(texto_normalizado)"
   ]
  },
  {
   "cell_type": "code",
   "execution_count": 10,
   "id": "4533ec9d",
   "metadata": {},
   "outputs": [],
   "source": [
    "df = pd.read_csv(arquivo_normalizado)"
   ]
  },
  {
   "cell_type": "code",
   "execution_count": 11,
   "id": "405559fe",
   "metadata": {},
   "outputs": [
    {
     "data": {
      "text/html": [
       "<div>\n",
       "<style scoped>\n",
       "    .dataframe tbody tr th:only-of-type {\n",
       "        vertical-align: middle;\n",
       "    }\n",
       "\n",
       "    .dataframe tbody tr th {\n",
       "        vertical-align: top;\n",
       "    }\n",
       "\n",
       "    .dataframe thead th {\n",
       "        text-align: right;\n",
       "    }\n",
       "</style>\n",
       "<table border=\"1\" class=\"dataframe\">\n",
       "  <thead>\n",
       "    <tr style=\"text-align: right;\">\n",
       "      <th></th>\n",
       "      <th>Dataset/obras.csv</th>\n",
       "    </tr>\n",
       "  </thead>\n",
       "  <tbody>\n",
       "  </tbody>\n",
       "</table>\n",
       "</div>"
      ],
      "text/plain": [
       "Empty DataFrame\n",
       "Columns: [Dataset/obras.csv]\n",
       "Index: []"
      ]
     },
     "execution_count": 11,
     "metadata": {},
     "output_type": "execute_result"
    }
   ],
   "source": [
    "df.head()"
   ]
  },
  {
   "cell_type": "code",
   "execution_count": 12,
   "id": "573ad4c8",
   "metadata": {},
   "outputs": [],
   "source": [
    "   # Exportar para CSV, sem a coluna de índice\n",
    "df.to_csv('arquivo_tratado.csv', index=False)"
   ]
  },
  {
   "cell_type": "code",
   "execution_count": 13,
   "id": "52623231",
   "metadata": {},
   "outputs": [],
   "source": [
    "df2 = pd.read_csv('arquivo_tratado.csv')"
   ]
  },
  {
   "cell_type": "code",
   "execution_count": 14,
   "id": "f3b164ef",
   "metadata": {},
   "outputs": [
    {
     "name": "stdout",
     "output_type": "stream",
     "text": [
      "<class 'pandas.core.frame.DataFrame'>\n",
      "RangeIndex: 0 entries\n",
      "Data columns (total 1 columns):\n",
      " #   Column             Non-Null Count  Dtype \n",
      "---  ------             --------------  ----- \n",
      " 0   Dataset/obras.csv  0 non-null      object\n",
      "dtypes: object(1)\n",
      "memory usage: 132.0+ bytes\n"
     ]
    }
   ],
   "source": [
    "df.info()"
   ]
  },
  {
   "cell_type": "markdown",
   "id": "6731e05f",
   "metadata": {},
   "source": [
    "# Fazendo um tratamento a partir da biblioteca padrão de arquivos csv"
   ]
  },
  {
   "cell_type": "code",
   "execution_count": 15,
   "id": "567d2fe0",
   "metadata": {},
   "outputs": [
    {
     "name": "stdout",
     "output_type": "stream",
     "text": [
      "['\\ufeffMunicípio', 'Situação', 'Âmbito', 'Valor do Contrato', 'Contratada', 'CNPJ da Contratada', 'Contratante', 'Ano do Contrato', 'Descrição da Obra']\n",
      "['Adamantina', 'Em execução  no prazo', 'MUNICIPAL', '149900', 'CONSTRUTORA LAIS LTDA', '65.437.543/000116', 'CENTRO UNIVERSITÁRIO DE ADAMANTINA', '2024', 'CONTRATAÇÃO DE EMPRESA DE ENGENHARIA ESPECIALIZADA EM SERVIÇOS DE IMPERMEABILIZAÇÃO NAS LAJES EXPOSTAS DO BLOCO V  CAMPUS II']\n",
      "['Adamantina', 'Em execução  no prazo', 'MUNICIPAL', '190000', 'CONSTRUTORA LAIS LTDA', '65.437.543/000116', 'CENTRO UNIVERSITÁRIO DE ADAMANTINA', '2024', 'CONTRATAÇÃO DE EMPRESA ESPECIALIZADA PARA EXECUÇÃO DE REFORMA EM TELHADO DE SETORES ADMINISTRATIVOS DO CAMPUS I DO CENTRO UNIVERSITÁRIO DE ADAMANTINA INCLUSOS MÃO DE OBRA E MATERIAIS']\n",
      "['Adamantina', 'Em execução  no prazo', 'MUNICIPAL', '171922,66', 'RYAN CARLOS LOPES SANTOS LTDA', '45.144.840/000166', 'CENTRO UNIVERSITÁRIO DE ADAMANTINA', '2023', 'CONTRATACAO DE EMPRESA ESPECIALIZADA PARA CONSTRUCAO DE PONTO DE APOIO PARA HORTA SOLIDARIA NO CAMPUS II DO CENTRO UNIVERSITARIO DE ADAMANTINA.']\n",
      "['Adamantina', 'Em execução  no prazo', 'MUNICIPAL', '619313,93', 'JG ESQUADRIAS METALICAS LTDA', '11.011.268/000145', 'CENTRO UNIVERSITÁRIO DE ADAMANTINA', '2022', 'CONTRATAÇÃO DE EMPRESA ESPECIALIZADA PARA REALIZAÇÃO DE OBRAS DE ACESSIBILIDADE E COBERTURA DE RAMPA NO CAMPUS II (BLOCO) DA UNIFAI']\n"
     ]
    }
   ],
   "source": [
    "dados = []\n",
    "with open(caminho_arquivo, 'r', encoding='utf-8') as f:\n",
    "    leitor = csv.reader(f, delimiter=';')\n",
    "    for linha in leitor:\n",
    "        if len(linha) > 9:\n",
    "            # Junta tudo após o oitavo índice na última coluna\n",
    "            nova_linha = linha[:8] + [';'.join(linha[8:])]\n",
    "            dados.append(nova_linha)\n",
    "        else:\n",
    "            dados.append(linha)\n",
    "\n",
    "# Exibir as 5 primeiras linhas\n",
    "for l in dados[:5]:\n",
    "    print(l)"
   ]
  },
  {
   "cell_type": "code",
   "execution_count": 16,
   "id": "f7cd93eb",
   "metadata": {},
   "outputs": [
    {
     "name": "stdout",
     "output_type": "stream",
     "text": [
      "['Adamantina', 'Em execução  no prazo', 'MUNICIPAL', '619313,93', 'JG ESQUADRIAS METALICAS LTDA', '11.011.268/000145', 'CENTRO UNIVERSITÁRIO DE ADAMANTINA', '2022', 'CONTRATAÇÃO DE EMPRESA ESPECIALIZADA PARA REALIZAÇÃO DE OBRAS DE ACESSIBILIDADE E COBERTURA DE RAMPA NO CAMPUS II (BLOCO) DA UNIFAI']\n",
      "['Altinópolis', 'Em execução  atrasada', 'MUNICIPAL', '725000', 'CARVALHO CONSTRUTORA INTERIOR LTDA', '31.275.491/000107', 'PREFEITURA MUNICIPAL DE ALTINÓPOLIS', '2024', 'CONTRATAÇÃO DE EMPRESA VISANDO A CONSTRUÇÃO DA PRAÇA DA BÍBLIA']\n"
     ]
    }
   ],
   "source": [
    "# Exibir as linhas identificadas com problema inicialmente\n",
    "print(dados[4])\n",
    "print(dados[57])"
   ]
  },
  {
   "cell_type": "markdown",
   "id": "81244f59",
   "metadata": {},
   "source": [
    "# Transformando os dados tratados (lista de listas) em um DataFrame"
   ]
  },
  {
   "cell_type": "code",
   "execution_count": 17,
   "id": "0d6070aa",
   "metadata": {},
   "outputs": [
    {
     "data": {
      "text/html": [
       "<div>\n",
       "<style scoped>\n",
       "    .dataframe tbody tr th:only-of-type {\n",
       "        vertical-align: middle;\n",
       "    }\n",
       "\n",
       "    .dataframe tbody tr th {\n",
       "        vertical-align: top;\n",
       "    }\n",
       "\n",
       "    .dataframe thead th {\n",
       "        text-align: right;\n",
       "    }\n",
       "</style>\n",
       "<table border=\"1\" class=\"dataframe\">\n",
       "  <thead>\n",
       "    <tr style=\"text-align: right;\">\n",
       "      <th></th>\n",
       "      <th>﻿Município</th>\n",
       "      <th>Situação</th>\n",
       "      <th>Âmbito</th>\n",
       "      <th>Valor do Contrato</th>\n",
       "      <th>Contratada</th>\n",
       "      <th>CNPJ da Contratada</th>\n",
       "      <th>Contratante</th>\n",
       "      <th>Ano do Contrato</th>\n",
       "      <th>Descrição da Obra</th>\n",
       "    </tr>\n",
       "  </thead>\n",
       "  <tbody>\n",
       "    <tr>\n",
       "      <th>0</th>\n",
       "      <td>Adamantina</td>\n",
       "      <td>Em execução  no prazo</td>\n",
       "      <td>MUNICIPAL</td>\n",
       "      <td>149900</td>\n",
       "      <td>CONSTRUTORA LAIS LTDA</td>\n",
       "      <td>65.437.543/000116</td>\n",
       "      <td>CENTRO UNIVERSITÁRIO DE ADAMANTINA</td>\n",
       "      <td>2024</td>\n",
       "      <td>CONTRATAÇÃO DE EMPRESA DE ENGENHARIA ESPECIALI...</td>\n",
       "    </tr>\n",
       "    <tr>\n",
       "      <th>1</th>\n",
       "      <td>Adamantina</td>\n",
       "      <td>Em execução  no prazo</td>\n",
       "      <td>MUNICIPAL</td>\n",
       "      <td>190000</td>\n",
       "      <td>CONSTRUTORA LAIS LTDA</td>\n",
       "      <td>65.437.543/000116</td>\n",
       "      <td>CENTRO UNIVERSITÁRIO DE ADAMANTINA</td>\n",
       "      <td>2024</td>\n",
       "      <td>CONTRATAÇÃO DE EMPRESA ESPECIALIZADA PARA EXEC...</td>\n",
       "    </tr>\n",
       "    <tr>\n",
       "      <th>2</th>\n",
       "      <td>Adamantina</td>\n",
       "      <td>Em execução  no prazo</td>\n",
       "      <td>MUNICIPAL</td>\n",
       "      <td>171922,66</td>\n",
       "      <td>RYAN CARLOS LOPES SANTOS LTDA</td>\n",
       "      <td>45.144.840/000166</td>\n",
       "      <td>CENTRO UNIVERSITÁRIO DE ADAMANTINA</td>\n",
       "      <td>2023</td>\n",
       "      <td>CONTRATACAO DE EMPRESA ESPECIALIZADA PARA CONS...</td>\n",
       "    </tr>\n",
       "    <tr>\n",
       "      <th>3</th>\n",
       "      <td>Adamantina</td>\n",
       "      <td>Em execução  no prazo</td>\n",
       "      <td>MUNICIPAL</td>\n",
       "      <td>619313,93</td>\n",
       "      <td>JG ESQUADRIAS METALICAS LTDA</td>\n",
       "      <td>11.011.268/000145</td>\n",
       "      <td>CENTRO UNIVERSITÁRIO DE ADAMANTINA</td>\n",
       "      <td>2022</td>\n",
       "      <td>CONTRATAÇÃO DE EMPRESA ESPECIALIZADA PARA REAL...</td>\n",
       "    </tr>\n",
       "    <tr>\n",
       "      <th>4</th>\n",
       "      <td>Adamantina</td>\n",
       "      <td>Em execução  no prazo</td>\n",
       "      <td>MUNICIPAL</td>\n",
       "      <td>6778283,62</td>\n",
       "      <td>CONSTRUTORA ALPHA VITORIA LTDA</td>\n",
       "      <td>06.122.379/000199</td>\n",
       "      <td>CENTRO UNIVERSITÁRIO DE ADAMANTINA</td>\n",
       "      <td>2019</td>\n",
       "      <td>CONTRATAÇÃO DE EMPRESA ESPECIALIZADA PARA FORN...</td>\n",
       "    </tr>\n",
       "  </tbody>\n",
       "</table>\n",
       "</div>"
      ],
      "text/plain": [
       "   ﻿Município               Situação     Âmbito Valor do Contrato  \\\n",
       "0  Adamantina  Em execução  no prazo  MUNICIPAL            149900   \n",
       "1  Adamantina  Em execução  no prazo  MUNICIPAL            190000   \n",
       "2  Adamantina  Em execução  no prazo  MUNICIPAL         171922,66   \n",
       "3  Adamantina  Em execução  no prazo  MUNICIPAL         619313,93   \n",
       "4  Adamantina  Em execução  no prazo  MUNICIPAL        6778283,62   \n",
       "\n",
       "                       Contratada CNPJ da Contratada  \\\n",
       "0           CONSTRUTORA LAIS LTDA  65.437.543/000116   \n",
       "1           CONSTRUTORA LAIS LTDA  65.437.543/000116   \n",
       "2   RYAN CARLOS LOPES SANTOS LTDA  45.144.840/000166   \n",
       "3    JG ESQUADRIAS METALICAS LTDA  11.011.268/000145   \n",
       "4  CONSTRUTORA ALPHA VITORIA LTDA  06.122.379/000199   \n",
       "\n",
       "                          Contratante Ano do Contrato  \\\n",
       "0  CENTRO UNIVERSITÁRIO DE ADAMANTINA            2024   \n",
       "1  CENTRO UNIVERSITÁRIO DE ADAMANTINA            2024   \n",
       "2  CENTRO UNIVERSITÁRIO DE ADAMANTINA            2023   \n",
       "3  CENTRO UNIVERSITÁRIO DE ADAMANTINA            2022   \n",
       "4  CENTRO UNIVERSITÁRIO DE ADAMANTINA            2019   \n",
       "\n",
       "                                   Descrição da Obra  \n",
       "0  CONTRATAÇÃO DE EMPRESA DE ENGENHARIA ESPECIALI...  \n",
       "1  CONTRATAÇÃO DE EMPRESA ESPECIALIZADA PARA EXEC...  \n",
       "2  CONTRATACAO DE EMPRESA ESPECIALIZADA PARA CONS...  \n",
       "3  CONTRATAÇÃO DE EMPRESA ESPECIALIZADA PARA REAL...  \n",
       "4  CONTRATAÇÃO DE EMPRESA ESPECIALIZADA PARA FORN...  "
      ]
     },
     "execution_count": 17,
     "metadata": {},
     "output_type": "execute_result"
    }
   ],
   "source": [
    "df_tratado = pd.DataFrame(dados[1:], columns=dados[0])\n",
    "df_tratado.head()"
   ]
  },
  {
   "cell_type": "code",
   "execution_count": 18,
   "id": "bd07ce1f",
   "metadata": {},
   "outputs": [
    {
     "name": "stdout",
     "output_type": "stream",
     "text": [
      "<class 'pandas.core.frame.DataFrame'>\n",
      "RangeIndex: 8304 entries, 0 to 8303\n",
      "Data columns (total 9 columns):\n",
      " #   Column              Non-Null Count  Dtype \n",
      "---  ------              --------------  ----- \n",
      " 0   ﻿Município          8304 non-null   object\n",
      " 1   Situação            8304 non-null   object\n",
      " 2   Âmbito              8304 non-null   object\n",
      " 3   Valor do Contrato   8304 non-null   object\n",
      " 4   Contratada          8304 non-null   object\n",
      " 5   CNPJ da Contratada  8304 non-null   object\n",
      " 6   Contratante         8304 non-null   object\n",
      " 7   Ano do Contrato     8304 non-null   object\n",
      " 8   Descrição da Obra   8304 non-null   object\n",
      "dtypes: object(9)\n",
      "memory usage: 584.0+ KB\n"
     ]
    }
   ],
   "source": [
    "df_tratado.info()"
   ]
  },
  {
   "cell_type": "code",
   "execution_count": null,
   "id": "e10eaf87",
   "metadata": {},
   "outputs": [
    {
     "data": {
      "text/plain": [
       "<Axes: >"
      ]
     },
     "execution_count": 19,
     "metadata": {},
     "output_type": "execute_result"
    },
    {
     "data": {
      "image/png": "[encoded data removed]",
      "text/plain": [
       "<Figure size 640x480 with 1 Axes>"
      ]
     },
     "metadata": {},
     "output_type": "display_data"
    }
   ],
   "source": [
    "df_tratado['Situação'].hist()"
   ]
  },
  {
   "cell_type": "code",
   "execution_count": 20,
   "id": "c4e3e1fb",
   "metadata": {},
   "outputs": [
    {
     "data": {
      "text/plain": [
       "<Axes: >"
      ]
     },
     "execution_count": 20,
     "metadata": {},
     "output_type": "execute_result"
    },
    {
     "data": {
      "image/png": "[encoded data removed]",
      "text/plain": [
       "<Figure size 640x480 with 1 Axes>"
      ]
     },
     "metadata": {},
     "output_type": "display_data"
    }
   ],
   "source": [
    "df_tratado['Ano do Contrato'].hist()"
   ]
  },
  {
   "cell_type": "code",
   "execution_count": 33,
   "id": "3125cce9",
   "metadata": {},
   "outputs": [],
   "source": [
    "#Excluindo o ano de 2025 pois ainda não é um ano completo\n",
    "df_filtrado = df_tratado[df_tratado['Ano do Contrato'] != '2025']\n"
   ]
  },
  {
   "cell_type": "code",
   "execution_count": 43,
   "id": "405317f0",
   "metadata": {},
   "outputs": [
    {
     "data": {
      "text/plain": [
       "4148    2017\n",
       "3042    2017\n",
       "3043    2017\n",
       "6724    2017\n",
       "6533    2017\n",
       "        ... \n",
       "5020    2024\n",
       "5021    2024\n",
       "5022    2024\n",
       "5031    2024\n",
       "8303    2024\n",
       "Name: Ano do Contrato, Length: 8240, dtype: object"
      ]
     },
     "execution_count": 43,
     "metadata": {},
     "output_type": "execute_result"
    }
   ],
   "source": [
    "df_filtrado['Ano do Contrato'].sort_values()"
   ]
  },
  {
   "cell_type": "code",
   "execution_count": 42,
   "id": "9677a905",
   "metadata": {},
   "outputs": [
    {
     "name": "stderr",
     "output_type": "stream",
     "text": [
      "/tmp/ipykernel_16544/4129112234.py:4: SettingWithCopyWarning: \n",
      "A value is trying to be set on a copy of a slice from a DataFrame.\n",
      "Try using .loc[row_indexer,col_indexer] = value instead\n",
      "\n",
      "See the caveats in the documentation: https://pandas.pydata.org/pandas-docs/stable/user_guide/indexing.html#returning-a-view-versus-a-copy\n",
      "  df_filtrado['Ano do Contrato'] = df_filtrado['Ano do Contrato'].sort_values()\n"
     ]
    },
    {
     "data": {
      "image/png": "[encoded data removed]",
      "text/plain": [
       "<Figure size 640x480 with 1 Axes>"
      ]
     },
     "metadata": {},
     "output_type": "display_data"
    }
   ],
   "source": [
    "import matplotlib.pyplot as plt\n",
    "\n",
    "# Ordenando os dados da coluna 'Ano do Contrato'\n",
    "df_filtrado['Ano do Contrato'] = df_filtrado['Ano do Contrato'].sort_values()\n",
    "\n",
    "#Plotando o histograma\n",
    "df_filtrado['Ano do Contrato'].hist()\n",
    "plt.title('Histograma dos Anos de Contrato')\n",
    "plt.xlabel('Ano do Contrato')\n",
    "plt.ylabel('Frequência')\n",
    "plt.show()"
   ]
  },
  {
   "cell_type": "code",
   "execution_count": 28,
   "id": "dea1a525",
   "metadata": {},
   "outputs": [
    {
     "data": {
      "text/plain": [
       "<Axes: >"
      ]
     },
     "execution_count": 28,
     "metadata": {},
     "output_type": "execute_result"
    },
    {
     "data": {
      "image/png": "[encoded data removed]",
      "text/plain": [
       "<Figure size 640x480 with 1 Axes>"
      ]
     },
     "metadata": {},
     "output_type": "display_data"
    }
   ],
   "source": [
    "df_tratado['Âmbito'].hist()"
   ]
  },
  {
   "cell_type": "code",
   "execution_count": 31,
   "id": "2d2a826a",
   "metadata": {},
   "outputs": [
    {
     "data": {
      "text/plain": [
       "<Axes: xlabel='Ano do Contrato', ylabel='Situação'>"
      ]
     },
     "execution_count": 31,
     "metadata": {},
     "output_type": "execute_result"
    },
    {
     "data": {
      "image/png": "[encoded data removed]",
      "text/plain": [
       "<Figure size 640x480 with 1 Axes>"
      ]
     },
     "metadata": {},
     "output_type": "display_data"
    }
   ],
   "source": [
    "df_tratado.plot(x='Ano do Contrato', y='Situação', kind='scatter')"
   ]
  },
  {
   "cell_type": "code",
   "execution_count": 26,
   "id": "2b26b8e0",
   "metadata": {},
   "outputs": [
    {
     "data": {
      "text/plain": [
       "<Axes: xlabel='Âmbito', ylabel='Situação'>"
      ]
     },
     "execution_count": 26,
     "metadata": {},
     "output_type": "execute_result"
    },
    {
     "data": {
      "image/png": "[encoded data removed]",
      "text/plain": [
       "<Figure size 640x480 with 1 Axes>"
      ]
     },
     "metadata": {},
     "output_type": "display_data"
    }
   ],
   "source": [
    "df_tratado.plot(x='Âmbito', y='Situação', kind='scatter')"
   ]
  },
  {
   "cell_type": "code",
   "execution_count": 35,
   "id": "b7bf56ba",
   "metadata": {},
   "outputs": [
    {
     "data": {
      "text/plain": [
       "array(['CENTRO UNIVERSITÁRIO DE ADAMANTINA',\n",
       "       'PREFEITURA MUNICIPAL DE ADAMANTINA',\n",
       "       'PREFEITURA MUNICIPAL DE AGUAÍ',\n",
       "       'PREFEITURA MUNICIPAL DE ÁGUAS DE LINDÓIA',\n",
       "       'PREFEITURA MUNICIPAL DE ÁGUAS DE SANTA BÁRBARA',\n",
       "       'PREFEITURA MUNICIPAL DE ÁGUAS DE SÃO PEDRO',\n",
       "       'CÂMARA MUNICIPAL DE AGUDOS', 'PREFEITURA MUNICIPAL DE AGUDOS',\n",
       "       'PREFEITURA MUNICIPAL DE ALAMBARI',\n",
       "       'PREFEITURA MUNICIPAL DE ALFREDO MARCONDES',\n",
       "       'PREFEITURA MUNICIPAL DE ALTAIR/SP',\n",
       "       'PREFEITURA MUNICIPAL DE ALTINÓPOLIS',\n",
       "       'PREFEITURA MUNICIPAL DE ALTO ALEGRE',\n",
       "       'CÂMARA MUNICIPAL DE ÁLVARES FLORENCE',\n",
       "       'PREFEITURA MUNICIPAL DE ÁLVARES FLORENCE',\n",
       "       'PREFEITURA MUNICIPAL DE ÁLVARES MACHADO',\n",
       "       'PREFEITURA MUNICIPAL DE ALVINLÂNDIA',\n",
       "       'PREFEITURA MUNICIPAL DE AMERICANA',\n",
       "       'PREFEITURA MUNICIPAL DE AMÉRICO BRASILIENSE',\n",
       "       'PREFEITURA MUNICIPAL DE AMPARO',\n",
       "       'SAAE  SERVIÇO AUTÔNOMO DE ÁGUA E ESGOTO',\n",
       "       'CÂMARA MUNICIPAL DE ANDRADINA',\n",
       "       'PREFEITURA MUNICIPAL DE ANDRADINA',\n",
       "       'SECRETARIA DA SEGURANCA PUBLICA / DELEGACIA SECCIONAL DE POLICIA DE ANDRADINA',\n",
       "       'PREFEITURA MUNICIPAL DE ANGATUBA',\n",
       "       'PREFEITURA MUNICIPAL DE ANHEMBI',\n",
       "       'PREFEITURA MUNICIPAL DE ANHUMAS', 'PREFEITURA MUNICIPAL DE APIAÍ',\n",
       "       'CÂMARA MUNICIPAL DE ARAÇARIGUAMA',\n",
       "       'PREFEITURA MUNICIPAL DE ARAÇARIGUAMA',\n",
       "       'DEPARTAMENTO DE ÁGUA E ESGOTO DE ARAÇATUBA',\n",
       "       'PREFEITURA MUNICIPAL DE ARAÇATUBA',\n",
       "       'PREFEITURA MUNICIPAL DE ARACOIABA DA SERRA',\n",
       "       'PREFEITURA MUNICIPAL DE ARANDU',\n",
       "       'DEPARTAMENTO AUTONOMO DE AGUA E ESGOTO',\n",
       "       'UNIVERSIDADE ESTADUAL PAULISTA\"JULIO DE MESQUITA FILHO\" / FACULDADE DE ODONTOLOGIA UNESP CAMPUS DE ARARAQUARA',\n",
       "       'UNIVERSIDADE ESTADUAL PAULISTA\"JULIO DE MESQUITA FILHO\" / INSTITUTO DE QUIMICA UNESPCAMPUS DE ARARAQUARA',\n",
       "       'SAEMASERVIÇO DE AGUA E ESGOTO DO MUN. DE ARARAS',\n",
       "       'SMTCASERVIÇO M. DE TRANSP.COLETIVOS DE ARARAS',\n",
       "       'PREFEITURA MUNICIPAL DE ARCOÍRIS',\n",
       "       'PREFEITURA MUNICIPAL DE AREALVA',\n",
       "       'PREFEITURA MUNICIPAL DE AREIAS',\n",
       "       'PREFEITURA MUNICIPAL DE AREIÓPOLIS',\n",
       "       'PREFEITURA MUNICIPAL DE ARTUR NOGUEIRA',\n",
       "       'SERVIÇO DE ÁGUA E ESGOTO DE ARTUR NOGUEIRA  SAEAN',\n",
       "       'CÂMARA MUNICIPAL DE ARUJÁ', 'PREFEITURA MUNICIPAL DE ARUJA',\n",
       "       'ASSISPREV  INSTITUTO DE PREVIDENCIA', 'CÂMARA MUNICIPAL DE ASSIS',\n",
       "       'CONSORCIO INTERMUNICIPAL DO VALE DO PARANAPANEMACIVAP ASSIS',\n",
       "       'FEMA  FUNDAÇÃO DE ENSINO DE ASSIS',\n",
       "       'PREFEITURA MUNICIPAL DE ASSIS',\n",
       "       'PREFEITURA MUNICIPAL DA ESTÂNCIA DE ATIBAIA',\n",
       "       'SECRETARIA DA SEGURANCA PUBLICA / DELEGACIA SECCIONAL DE POLICIA DE AVARE',\n",
       "       'PREFEITURA MUNICIPAL DE BALBINOS',\n",
       "       'PREFEITURA MUNICIPAL DE BÁLSAMO',\n",
       "       'PREFEITURA MUNICIPAL DE BANANAL',\n",
       "       'PREFEITURA MUNICIPAL  DE BARÃO DE ANTONINA',\n",
       "       'PREFEITURA MUNICIPAL DE BARBOSA',\n",
       "       'PREFEITURA MUNICIPAL DE BARIRI',\n",
       "       'PREFEITURA MUNICIPAL DE BARRA BONITA',\n",
       "       'SERVIÇO AUTONOMO DE AGUA E ESGOTO',\n",
       "       'PREFEITURA MUNICIPAL DE BARRA DO CHAPÉU',\n",
       "       'PREFEITURA MUNICIPAL DE BARRA DO TURVO',\n",
       "       'PREFEITURA MUNICIPAL DE BARRETOS',\n",
       "       'SERVIÇO AUTONOMO DE AGUA E ESGOTO DE BARRETOS',\n",
       "       'PREFEITURA MUNICIPAL DE BARUERI',\n",
       "       'PREFEITURA MUNICIPAL DE BASTOS',\n",
       "       'PREFEITURA MUNICIPAL DE BATATAIS',\n",
       "       'DEPARTAMENTO DE ÁGUA E ESGOTO (DAE)',\n",
       "       'PREFEITURA MUNICIPAL DE BAURU',\n",
       "       'SECRETARIA DA SEGURANCA PUBLICA / DEPART. DE POLICIA JUDICIARIA S.P. INTERIOR  BAURU',\n",
       "       'UNIVERSIDADE DE SAO PAULO / USP DA FACULDADE DE ODONTOLOGIA DE BAURU',\n",
       "       'UNIVERSIDADE DE SAO PAULO / USP DO HOSPITAL REAB.ANOMALIAS CRANIOFACIAIS BAURU',\n",
       "       'UNIVERSIDADE DE SAO PAULO / USP PREFEITURA DO CAMPUS USP DE BAURU',\n",
       "       'UNIVERSIDADE ESTADUAL PAULISTA\"JULIO DE MESQUITA FILHO\" / ADMINISTRACAO GERAL UNESPCAMPUS DE BAURU',\n",
       "       'PREFEITURA MUNICIPAL DE BEBEDOURO',\n",
       "       'SERVIÇO AUTÔNOMO DE ÁGUA E ESGOTOS DE BEBEDOURO',\n",
       "       'PREFEITURA MUNICIPAL DE BENTO DE ABREU',\n",
       "       'CÂMARA MUNICIPAL DE BERNARDINO DE CAMPOS',\n",
       "       'PREFEITURA MUNICIPAL DE BERNARDINO DE CAMPOS',\n",
       "       'CÂMARA MUNICIPAL DE BERTIOGA', 'PREFEITURA MUNICIPAL DE BERTIOGA',\n",
       "       'PREFEITURA MUNICIPAL DE BILAC',\n",
       "       'INSTITUTO DE PREVIDENCIA DO MUNICIPIO DE BIRIGUIBIRIGUIPREV',\n",
       "       'PREFEITURA MUNICIPAL DE BIRIGUI',\n",
       "       'PREFEITURA MUNICIPAL DE BIRITIBA MIRIM',\n",
       "       'PREFEITURA MUNICIPAL DE BOA ESPERANÇA DO SUL',\n",
       "       'PREFEITURA MUNICIPAL DE BOCAINA',\n",
       "       'PREFEITURA MUNICIPAL DE BOFETE',\n",
       "       'PREFEITURA MUNICIPAL DE BOITUVA',\n",
       "       'CÂMARA MUNICIPAL DE BOM JESUS DOS PERDÕES',\n",
       "       'PREFEITURA MUNICIPAL DE BOM JESUS DOS PERDÕES',\n",
       "       'PREFEITURA MUNICIPAL DE BOM SUCESSO DE ITARARÉ',\n",
       "       'PREFEITURA MUNICIPAL DE BORÁ', 'PREFEITURA MUNICIPAL DE BORACÉIA',\n",
       "       'PREFEITURA MUNICIPAL DE BORBOREMA',\n",
       "       'PREFEITURA MUNICIPAL DE BOREBI',\n",
       "       'FUNDACAO DESENVOLVIMENTO MEDICO HOSPITALAR BOTUCATU',\n",
       "       'PREFEITURA MUNICIPAL DE BOTUCATU',\n",
       "       'UNIVERSIDADE ESTADUAL PAULISTA\"JULIO DE MESQUITA FILHO\" / ADMINISTRACAO GERAL UNESPCAMPUS DE BOTUCATU',\n",
       "       'UNIVERSIDADE ESTADUAL PAULISTA\"JULIO DE MESQUITA FILHO\" / FAC.DE CIENCIAS AGRONOMICASUNESPCAMPUS DE BOTUCATU',\n",
       "       'UNIVERSIDADE ESTADUAL PAULISTA\"JULIO DE MESQUITA FILHO\" / FACULDADE DE MEDICINA UNESPCAMPUS DE BOTUCATU',\n",
       "       'PREFEITURA MUNICIPAL DE BRAGANÇA PAULISTA',\n",
       "       'PREFEITURA MUNICIPAL DE BRAÚNA',\n",
       "       'SERVIÇO AUTONOMO DE SANEAM AMBIENTAL DE BRAUNA',\n",
       "       'PREFEITURA MUNICIPAL DE BRODOWSKI', 'CÂMARA MUNICIPAL DE BROTAS',\n",
       "       'PREFEITURA MUNICIPAL DE BROTAS',\n",
       "       'SERVIÇO AUTÔNOMO DE ÁGUA E ESGOTO DE BROTAS',\n",
       "       'CÂMARA MUNICIPAL DE BURI', 'PREFEITURA MUNICIPAL DE BURI',\n",
       "       'CÂMARA MUNICIPAL DE BURITAMA', 'PREFEITURA MUNICIPAL DE BURITAMA',\n",
       "       'PREFEITURA MUNICIPAL DE BURITIZAL',\n",
       "       'PREFEITURA MUNICIPAL DE CABREÚVA',\n",
       "       'PREFEITURA MUNICIPAL DE CAÇAPAVA',\n",
       "       'PREFEITURA MUNICIPAL DE CACHOEIRA PAULISTA',\n",
       "       'PREFEITURA MUNICIPAL DE CACONDE',\n",
       "       'PREFEITURA MUNICIPAL DE CAFELÂNDIA',\n",
       "       'CÂMARA MUNICIPAL DE CAIEIRAS', 'PREFEITURA MUNICIPAL DE CAIUÁ',\n",
       "       'INSTITUTO DE PREVID.SOCIAL DOS SERVID.DE CAJAMAR',\n",
       "       'PREFEITURA MUNICIPAL DE CAJAMAR', 'CÂMARA MUNICIPAL DE CAJATI',\n",
       "       'PREFEITURA MUNICIPAL DE CAJATI', 'PREFEITURA MUNICIPAL DE CAJOBI',\n",
       "       'PREFEITURA MUNICIPAL DE CAJURU',\n",
       "       'PREFEITURA MUNICIPAL DE CAMPINA DO MONTE ALEGRE',\n",
       "       'CÂMARA MUNICIPAL DE CAMPINAS',\n",
       "       'CENTRAIS DE ABASTECIMENTO DE CAMPINAS S/A                   ',\n",
       "       'EMPRESA MUNICIPAL DESENVOLVIMENTO CAMPINAS S/A              ',\n",
       "       'FUNDAÇÃO MUNICIPAL P/EDUCÇÃO COMUNITÁRIA  FUMEC',\n",
       "       'PREFEITURA MUNICIPAL DE CAMPINAS',\n",
       "       'SECRETARIA DE CIENCIA,TECNOLOGIA E INOVACAO / UNIVERSIDADE ESTADUAL DE CAMPINAS',\n",
       "       'SERVIÇOS TÉCNICOS GERAIS  SETEC',\n",
       "       'SOCIEDADE DE ABASTECIMENTO DE AGUA E SANEAMENTO',\n",
       "       'PREFEITURA MUNICIPAL DE CAMPO LIMPO PAULISTA',\n",
       "       'PREFEITURA MUNICIPAL DE CANAS',\n",
       "       'PREFEITURA MUNICIPAL DE CÂNDIDO MOTA',\n",
       "       'SERVIÇO AUTÔNOMO DE AGUA E ESGOTO  SAAE',\n",
       "       'PREFEITURA MUNICIPAL DE CÂNDIDO RODRIGUES',\n",
       "       'PREFEITURA MUNICIPAL DE CANITAR',\n",
       "       'PREFEITURA MUNICIPAL DE CAPÃO BONITO',\n",
       "       'PREFEITURA MUNICIPAL DE CAPELA DO ALTO',\n",
       "       'PREFEITURA MUNICIPAL DE CAPIVARI',\n",
       "       'PREFEITURA MUNICIPAL DE CARAGUATATUBA',\n",
       "       'PREFEITURA MUNICIPAL DE CARAPICUÍBA',\n",
       "       'PREFEITURA MUNICIPAL DE CARDOSO',\n",
       "       'CÂMARA MUNICIPAL DE CASA BRANCA',\n",
       "       'PREFEITURA MUNICIPAL DE  CÁSSIA DOS COQUEIROS',\n",
       "       'PREFEITURA MUNICIPAL DE CASTILHO',\n",
       "       'PREFEITURA MUNICIPAL DE CATANDUVA',\n",
       "       'SUPERINTENDÊNCIA DE ÁGUA E ESGOTO DE CATANDUVA',\n",
       "       'PREFEITURA MUNICIPAL DE CATIGUÁ',\n",
       "       'PREFEITURA MUNICIPAL DE CEDRAL',\n",
       "       'PREFEITURA MUNICIPAL DE CERQUEIRA CÉSAR',\n",
       "       'CÂMARA MUNICIPAL DE CERQUILHO',\n",
       "       'PREFEITURA MUNICIPAL DE CERQUILHO',\n",
       "       'SERVIÇO AUTÔNOMO DE ÁGUA E ESGOTO DE CERQUILHO',\n",
       "       'PREFEITURA MUNICIPAL DE CESÁRIO LANGE',\n",
       "       'PREFEITURA MUNICIPAL DE CHARQUEADA',\n",
       "       'PREFEITURA MUNICIPAL DE COLINA',\n",
       "       'SERVIÇO AUTONOMO DE AGUA E ESGOTO DE COLINA',\n",
       "       'PREFEITURA MUNICIPAL DE COLOMBIA',\n",
       "       'PREFEITURA MUNICIPAL DE CONCHAL', 'CÂMARA MUNICIPAL DE CONCHAS',\n",
       "       'PREFEITURA MUNICIPAL DE CONCHAS',\n",
       "       'CÂMARA MUNICIPAL DE CORDEIRÓPOLIS',\n",
       "       'PREFEITURA MUNICIPAL DE CORONEL MACEDO',\n",
       "       'PREFEITURA MUNICIPAL DE CORUMBATAÍ',\n",
       "       'PREFEITURA MUNICIPAL DE COSMÓPOLIS',\n",
       "       'PREFEITURA MUNICIPAL DE COSMORAMA',\n",
       "       'PREFEITURA MUNICIPAL DE CRAVINHOS',\n",
       "       'SERVIÇO AUTONÔMO DE ÁGUA DE ESGOTO',\n",
       "       'PREFEITURA MUNICIPAL DE CRUZÁLIA',\n",
       "       'PREFEITURA MUNICIPAL DE CRUZEIRO',\n",
       "       'SERVIÇO AUTONOMO DE AGUA E ESGOTO DE CRUZEIRO',\n",
       "       'CÂMARA MUNICIPAL DE CUBATÃO', 'PREFEITURA MUNICIPAL DE CUBATÃO',\n",
       "       'PREFEITURA MUNICIPAL DE DESCALVADO',\n",
       "       'FUNDAÇÃO FLORESTAN FERNANDES', 'PREFEITURA MUNICIPAL DE DIADEMA',\n",
       "       'PREFEITURA MUNICIPAL DE DIRCE REIS',\n",
       "       'PREFEITURA MUNICIPAL DE DIVINOLÂNDIA',\n",
       "       'PREFEITURA MUNICIPAL DE DOBRADA',\n",
       "       'PREFEITURA MUNICIPAL DE DOIS CÓRREGOS',\n",
       "       'PREFEITURA MUNICIPAL DE  DOLCINOPOLIS',\n",
       "       'PREFEITURA MUNICIPAL DE DOURADO',\n",
       "       'FUNDACAO DRACENENSE DE EDUCACAO E CULTURA DRACENA',\n",
       "       'PREFEITURA MUNICIPAL DE DRACENA',\n",
       "       'SECRETARIA DA SEGURANCA PUBLICA / DELEGACIA SECCIONAL DE POLICIA DE DRACENA',\n",
       "       'PREFEITURA MUNICIPAL DE DUARTINA',\n",
       "       'PREFEITURA MUNICIPAL DE DUMONT',\n",
       "       'PREFEITURA MUNICIPAL DE ELIAS FAUSTO',\n",
       "       'PREFEITURA MUNICIPAL DE ELISIÁRIO',\n",
       "       'PREFEITURA MUNICIPAL DE EMBAÚBA',\n",
       "       'PREFEITURA MUNICIPAL DE EMBU DAS ARTES',\n",
       "       'PREFEITURA MUNICIPAL DE EMILIANÓPOLIS',\n",
       "       'PREFEITURA MUNICIPAL DE ESPÍRITO SANTO DO PINHAL',\n",
       "       'PREFEITURA MUNICIPAL DE ESPÍRITO SANTO DO TURVO',\n",
       "       'PREFEITURA MUNICIPAL DE ESTRELA D OESTE',\n",
       "       'PREFEITURA MUNICIPAL DE ESTRELA DO NORTE',\n",
       "       'PREFEITURA MUNICIPAL DE EUCLIDES DA CUNHA PAULISTA',\n",
       "       'CÂMARA MUNICIPAL DE FARTURA', 'PREFEITURA MUNICIPAL DE FARTURA',\n",
       "       'PREFEITURA MUNICIPAL DE FERNANDÓPOLIS',\n",
       "       'SECRETARIA DA SEGURANCA PUBLICA / DELEGACIA SECCIONAL DE POLICIA DE FERNANDOPOLIS',\n",
       "       'PREFEITURA MUNICIPAL DE FERNANDO PRESTES',\n",
       "       'PREFEITURA MUNICIPAL DE FERNÃO',\n",
       "       'PREFEITURA MUNICIPAL DE FERRAZ DE VASCONCELOS',\n",
       "       'PREFEITURA MUNICIPAL DE FLOREAL',\n",
       "       'PREFEITURA MUNICIPAL DE FLÓRIDA PAULISTA',\n",
       "       'PREFEITURA MUNICIPAL DE FLORÍNEA', 'CÂMARA MUNICIPAL DE FRANCA',\n",
       "       'CENTRO UNIVERSITÁRIO DE FRANCA  UNIFACEF',\n",
       "       'CONSORCIO DE MUNICIPIOS DA ALTA MOGIANA',\n",
       "       'FACULDADE DE DIREITO DE FRANCA  ',\n",
       "       'UNIVERSIDADE ESTADUAL PAULISTA\"JULIO DE MESQUITA FILHO\" / FAC.DE CIENCIAS HUMANAS E SOCIAISUNESPCAMPUS DE FRANCA',\n",
       "       'CÂMARA MUNICIPAL DE FRANCISCO MORATO',\n",
       "       'PREFEITURA MUNICIPAL DE FRANCISCO MORATO',\n",
       "       'SAME  SERVIÇO DE ASSISTÊNCIA MÉDICA DE FCO MORATO',\n",
       "       'PREFEITURA MUNICIPAL DE FRANCO DA ROCHA',\n",
       "       'PREFEITURA MUNICIPAL DE GABRIEL MONTEIRO',\n",
       "       'PREFEITURA MUNICIPAL DE GÁLIA', 'PREFEITURA MUNICIPAL DE GARÇA',\n",
       "       'SAAE  SERVICO AUTONOMO DE AGUA E ESGOTO',\n",
       "       'PREFEITURA MUNICIPAL DE GASTÃO VIDIGAL',\n",
       "       'PREFEITURA MUNICIPAL DE GAVIÃO PEIXOTO',\n",
       "       'PREFEITURA MUNICIPAL DE GENERAL SALGADO',\n",
       "       'PREFEITURA MUNICIPAL DE GETULINA',\n",
       "       'PREFEITURA MUNICIPAL DE GLICERIO',\n",
       "       'PREFEITURA MUNICIPAL DE GUAICARA', 'CÂMARA MUNICIPAL DE GUAÍRA',\n",
       "       'PREFEITURA MUNICIPAL DE GUAÍRA',\n",
       "       'PREFEITURA MUNICIPAL DE GUAPIAÇU',\n",
       "       'PREFEITURA MUNICIPAL DE GUAPIARA',\n",
       "       'PREFEITURA MUNICIPAL DE GUARÁ', 'PREFEITURA MUNICIPAL DE GUARACI',\n",
       "       \"PREFEITURA MUNICIPAL DE GUARANI D'OESTE\",\n",
       "       'PREFEITURA MUNICIPAL DE GUARANTA',\n",
       "       'PREFEITURA MUNICIPAL DE GUARARAPES',\n",
       "       'PREFEITURA MUNICIPAL DE GUARAREMA',\n",
       "       'CÂMARA MUNICIPAL DE GUARATINGUETÁ',\n",
       "       'PREFEITURA MUNICIPAL DE GUARATINGUETÁ',\n",
       "       'UNIVERSIDADE ESTADUAL PAULISTA\"JULIO DE MESQUITA FILHO\" / FACULDADE DE ENGENHARIAUNESPCAMPUS DE GUARATINGUETA',\n",
       "       'PREFEITURA MUNICIPAL DE GUAREÍ',\n",
       "       'PREFEITURA MUNICIPAL DE GUARIBA', 'CÂMARA MUNICIPAL DE GUARUJÁ',\n",
       "       'PREFEITURA MUNICIPAL DE GUARUJÁ',\n",
       "       'PREFEITURA MUNICIPAL DE GUARULHOS',\n",
       "       'SECRETARIA DA SAUDE / FUNDACAO PARA O REMEDIO POPULAR\"CHOPIN TAVARES DE LIMA\"',\n",
       "       'SERVIÇO AUTÔNOMO DE ÁGUA E ESGOTO',\n",
       "       'PREFEITURA MUNICIPAL DE GUATAPARÁ',\n",
       "       'PREFEITURA MUNICIPAL DE HERCULÂNDIA',\n",
       "       'PREFEITURA MUNICIPAL DE HOLAMBRA',\n",
       "       'CÂMARA MUNICIPAL DE HORTOLÂNDIA',\n",
       "       'PREFEITURA MUNICIPAL DE HORTOLÂNDIA',\n",
       "       'PREFEITURA MUNICIPAL DE IACRI', 'CÂMARA MUNICIPAL DE IARAS',\n",
       "       'PREFEITURA MUNICIPAL DE IARAS', 'PREFEITURA MUNICIPAL DE IBIRÁ',\n",
       "       'PREFEITURA MUNICIPAL DE IBIRAREMA', 'AUTARQUIA SAMS',\n",
       "       'CÂMARA MUNICIPAL DE IBITINGA',\n",
       "       'PREFEITURA MUNICIPAL DA  ESTANCIA TURISTICA IBITINGA',\n",
       "       'PREFEITURA MUNICIPAL DE IBIÚNA', 'PREFEITURA MUNICIPAL DE ICEM',\n",
       "       'AUTARQUIA HOSPITAL MUNICIPAL DE IEPÊ',\n",
       "       'PREFEITURA MUNICIPAL DE IGARAÇU DO TIETÊ',\n",
       "       'PREFEITURA MUNICIPAL DE IGARAPAVA',\n",
       "       'PREFEITURA MUNICIPAL DE IGARATÁ',\n",
       "       'PREFEITURA MUNICIPAL DE IGUAPE', 'CÂMARA MUNICIPAL DE ILHABELA',\n",
       "       'PREFEITURA MUNICIPAL DE ILHABELA',\n",
       "       'PREFEITURA MUNICIPAL DE ILHA COMPRIDA',\n",
       "       'PREFEITURA MUNICIPAL DE ILHA SOLTEIRA',\n",
       "       'CÂMARA MUNICIPAL DE INDAIATUBA',\n",
       "       'FUNDAÇÃO INDAIATUBANA DE EDUC E CULTURA  FIEC',\n",
       "       'PREFEITURA MUNICIPAL DE INDAIATUBA ',\n",
       "       'SERVIÇO AUTONOMO DE AGUA E ESGOTO  SAAE',\n",
       "       'PREFEITURA MUNICIPAL DE INDIAPORÃ',\n",
       "       'CÂMARA MUNICIPAL DE INÚBIA PAULISTA',\n",
       "       'PREFEITURA MUNICIPAL DE INÚBIA PAULISTA',\n",
       "       'PREFEITURA MUNICIPAL DE IPAUSSU', 'PREFEITURA MUNICIPAL DE IPERÓ',\n",
       "       'PREFEITURA MUNICIPAL DE IPEÚNA',\n",
       "       'PREFEITURA MUNICIPAL DE IPORANGA', 'PREFEITURA MUNICIPAL DE IPUÃ',\n",
       "       'PREFEITURA MUNICIPAL DE IRACEMÁPOLIS',\n",
       "       'PREFEITURA MUNICIPAL DE IRAPUA',\n",
       "       'PREFEITURA MUNICIPAL DE IRAPURU', 'CÂMARA MUNICIPAL DE ITABERÁ',\n",
       "       'PREFEITURA MUNICIPAL DE ITABERÁ', 'PREFEITURA MUNICIPAL DE ITAÍ',\n",
       "       'CÂMARA MUNICIPAL DE  ITAJOBI', 'PREFEITURA MUNICIPAL DE ITAJOBI',\n",
       "       'PREFEITURA MUNICIPAL DE ITANHAÉM',\n",
       "       'PREFEITURA MUNICIPAL DE ITAPECERICA DA SERRA',\n",
       "       'SAUDE  IS DE ITAPECERICA DA SERRA',\n",
       "       'PREFEITURA MUNICIPAL DE ITAPETININGA',\n",
       "       'PREFEITURA MUNICIPAL DE ITAPEVA',\n",
       "       'SECRETARIA DA SEGURANCA PUBLICA / DELEGACIA SECCIONAL DE POLICIA DE ITAPEVA',\n",
       "       'UNIVERSIDADE ESTADUAL PAULISTA\"JULIO DE MESQUITA FILHO\" / CAMPUS DE ITAPEVAINSTITUTO DE CIENCIAS E ENGENHARIA',\n",
       "       'PREFEITURA MUNICIPAL DE ITAPEVI',\n",
       "       'PREFEITURA MUNICIPAL DE ITAPIRA',\n",
       "       'PREFEITURA MUNICIPAL DE ITAPIRAPUÃ PAULISTA',\n",
       "       'PREFEITURA MUNICIPAL DE ITÁPOLIS',\n",
       "       'SERVIÇO AUTONOMO DE ÁGUA E ESGOTO DE ITÁPOLIS',\n",
       "       'CÂMARA MUNICIPAL DE ITAPORANGA',\n",
       "       'PREFEITURA MUNICIPAL DE ITAPORANGA',\n",
       "       'PREFEITURA MUNICIPAL DE ITAPUÍ',\n",
       "       'PREFEITURA MUNICIPAL DE ITAPURA',\n",
       "       'PREFEITURA MUNICIPAL DE ITAQUAQUECETUBA',\n",
       "       'PREFEITURA MUNICIPAL DE ITARARÉ',\n",
       "       'PREFEITURA MUNICIPAL DE ITARIRI',\n",
       "       'PREFEITURA MUNICIPAL DE ITATIBA',\n",
       "       'CAIXA APOSENTADORIA PREV SERV MUNICIPAIS DE ITATINGA',\n",
       "       'PREFEITURA MUNICIPAL DE ITATINGA',\n",
       "       'PREFEITURA MUNICIPAL DE ITIRAPINA',\n",
       "       'PREFEITURA MUNICIPAL DE ITOBI',\n",
       "       'COMPANHIA ITUANA DE SANEAMENTOCIS', 'PREFEITURA MUNICIPAL DE ITU',\n",
       "       'PREFEITURA MUNICIPAL DE ITUPEVA',\n",
       "       'PREFEITURA MUNICIPAL DE ITUVERAVA',\n",
       "       'PREFEITURA MUNICIPAL DE JABORANDI',\n",
       "       'PREFEITURA MUNICIPAL DE JABOTICABAL',\n",
       "       'SERVIÇO AUTONOMO DE AGUA E ESGOTOS DE JABOTICABALSAAEJ',\n",
       "       'PREFEITURA MUNICIPAL DE JACAREÍ',\n",
       "       'SERVIÇO AUTÔNOMO DE ÁGUA E ESGOTO DE JACAREÍ',\n",
       "       'PREFEITURA MUNICIPAL DE JACI',\n",
       "       'PREFEITURA MUNICIPAL DE JACUPIRANGA',\n",
       "       'PREFEITURA MUNICIPAL DE JAGUARIÚNA',\n",
       "       'CONSORCIO PUBLICO INTERMUNICIPAL DE SAUDE DA REGIAO DE JALES',\n",
       "       'PREFEITURA MUNICIPAL DE JALES',\n",
       "       'PREFEITURA MUNICIPAL DE JAMBEIRO',\n",
       "       'PREFEITURA MUNICIPAL DE JANDIRA',\n",
       "       'CÂMARA MUNICIPAL DE JARDINÓPOLIS',\n",
       "       'PREFEITURA MUNICIPAL DE JARDINÓPOLIS',\n",
       "       'PREFEITURA MUNICIPAL DE JARINU', 'PREFEITURA MUNICIPAL DE JAÚ',\n",
       "       'SECRETARIA DA SEGURANCA PUBLICA / DELEGACIA SECCIONAL DE POLICIA DE JAU',\n",
       "       'PREFEITURA MUNICIPAL DE JOANÓPOLIS',\n",
       "       'PREFEITURA MUNICIPAL DE JOÃO RAMALHO',\n",
       "       'PREFEITURA MUNICIPAL DE JOSÉ BONIFÁCIO',\n",
       "       'PREFEITURA MUNICIPAL DE JULIO MESQUITA',\n",
       "       'PREFEITURA MUNICIPAL DE JUMIRIM',\n",
       "       'DAE S/A  AGUA E ESGOTO   JUNDIAI                           ',\n",
       "       'FACULDADE DE MEDICINA DE JUNDIAI',\n",
       "       'FUNDAÇÃO MUNICIPAL DE AÇÃO SOCIAL  FUMAS',\n",
       "       'INSTITUTO DE PREVIDENCIA DO MUNICÍPIO DE JUNDIAIIPREJUN',\n",
       "       'PREFEITURA MUNICIPAL DE JUNDIAÍ',\n",
       "       'PREFEITURA MUNICIPAL DE JUQUIÁ',\n",
       "       'PREFEITURA MUNICIPAL DE JUQUITIBA',\n",
       "       'PREFEITURA MUNICIPAL DE LAGOINHA',\n",
       "       'PREFEITURA MUNICIPAL DE LARANJAL PAULISTA',\n",
       "       'PREFEITURA MUNICIPAL DE LAVÍNIA', 'CÂMARA MUNICIPAL DE LAVRINHAS',\n",
       "       'SAECIL  SUPERINTENDENCIA AGUA ESGOTO',\n",
       "       'PREFEITURA MUNICIPAL DE LENÇÓIS PAULISTA',\n",
       "       'SERVIÇO AUTÔNOMO DE ÁGUA E ESGOTOSSAAE',\n",
       "       'CÂMARA MUNICIPAL DE LIMEIRA',\n",
       "       'Emdel  Empresa de Desenvolvimento de Limeira ',\n",
       "       'PREFEITURA MUNICIPAL DE LIMEIRA', 'CÂMARA MUNICIPAL DE LINDÓIA',\n",
       "       'PREFEITURA MUNICIPAL DE LINDÓIA', 'PREFEITURA MUNICIPAL DE LINS',\n",
       "       'PREFEITURA MUNICIPAL DE LORENA',\n",
       "       'FUNDAÇÃO MUNICIPAL DE HABITAÇÃO DE LOUVEIRA  FUMHAB',\n",
       "       'PREFEITURA MUNICIPAL DE LOUVEIRA',\n",
       "       'PREFEITURA MUNICIPAL DE LUCÉLIA',\n",
       "       'PREFEITURA MUNICIPAL DE LUCIANÓPOLIS',\n",
       "       'PREFEITURA MUNICIPAL DE LUÍS ANTÔNIO',\n",
       "       'PREFEITURA MUNICIPAL DE LUIZIÂNIA',\n",
       "       'PREFEITURA MUNICIPAL DE LUPÉRCIO', 'CÂMARA MUNICIPAL DE LUTÉCIA',\n",
       "       'PREFEITURA MUNICIPAL DE LUTÉCIA',\n",
       "       'PREFEITURA MUNICIPAL DE MACATUBA',\n",
       "       'PREFEITURA MUNICIPAL DE MACEDONIA',\n",
       "       'PREFEITURA MUNICIPAL DE MAIRINQUE',\n",
       "       'INST. DE PREV. DOS SERV. PUBL DE MAIRIPORÃ  IPREMA',\n",
       "       'PREFEITURA MUNICIPAL DE MAIRIPORÃ',\n",
       "       'PREFEITURA MUNICIPAL DE MANDURI',\n",
       "       'PREFEITURA MUNICIPAL DE MARAPOAMA',\n",
       "       'PREFEITURA MUNICIPAL DE MARIÁPOLIS',\n",
       "       'IPREMM  INSTITUTO DE PREVIDÊNCIA DO MUNIC. MARÍLIA',\n",
       "       'UNIVERSIDADE ESTADUAL PAULISTA\"JULIO DE MESQUITA FILHO\" / FACULDADE DE FILOSOFIA E CIENCIASUNESP CAMPUS DE MARILIA',\n",
       "       'PREFEITURA MUNICIPAL  MAUÁ',\n",
       "       'SANEAMENTO BÁSICO DO MUNICÍPIO DE MAUÁ  SAMA',\n",
       "       'PREFEITURA MUNICIPAL DE MENDONÇA',\n",
       "       'PREFEITURA MUNICIPAL DE MERIDIANO',\n",
       "       'PREFEITURA MUNICIPAL DE MINEIROS DO TIETÊ',\n",
       "       'PREFEITURA MUNICIPAL DE MIRACATU',\n",
       "       'PREFEITURA MUNICIPAL DE MIRA ESTRELA',\n",
       "       'PREFEITURA MUNICIPAL DE MIRANTE DO PARANAPANEMA',\n",
       "       'PREFEITURA MUNICIPAL DE MIRASSOL',\n",
       "       'PREFEITURA MUNICIPAL DE MOGI DAS CRUZES',\n",
       "       'SEMAE  SERVIÇO MUNICIPAL DE AGUAS E ESGOTOS',\n",
       "       'FEGFUNDAÇÃO EDUCACIONAL GUAÇUANA',\n",
       "       'PREFEITURA MUNICIPAL DE MOGI GUAÇU',\n",
       "       'SAMAESERVIÇO AUTON. ÁGUA E ESGOTO',\n",
       "       'PREFEITURA MUNICIPAL DE MOGI MIRIM',\n",
       "       'SERVIÇO AUTÔNOMO DE ÁGUA E ESGOTOS DE MOGI MIRIM',\n",
       "       'PREFEITURA MUNICIPAL DE MONGAGUÁ',\n",
       "       'PREFEITURA MUNICIPAL DE MONTE ALEGRE DO SUL',\n",
       "       'PREFEITURA MUNICIPAL DE MONTE ALTO',\n",
       "       'PREFEITURA MUNICIPAL DE MONTE APRAZÍVEL',\n",
       "       'CÂMARA MUNICIPAL DE MONTE AZUL PAULISTA',\n",
       "       'PREFEITURA MUNICIPAL DE MONTE AZUL PAULISTA',\n",
       "       'PREFEITURA MUNICIPAL DE MONTE CASTELO',\n",
       "       'PREFEITURA MUNICIPAL DE MONTEIRO LOBATO',\n",
       "       'PREFEITURA MUNICIPAL DE MORRO AGUDO',\n",
       "       'PREFEITURA MUNICIPAL DE MOTUCA',\n",
       "       'PREFEITURA MUNICIPAL DE MURUTINGA DO SUL',\n",
       "       'PREFEITURA MUNICIPAL DE NARANDIBA',\n",
       "       'PREFEITURA MUNICIPAL DE NAZARÉ PAULISTA',\n",
       "       'PREFEITURA MUNICIPAL DE NHANDEARA',\n",
       "       'PREFEITURA MUNICIPAL DE NOVA CANAÃ PAULISTA',\n",
       "       'PREFEITURA MUNICIPAL DE NOVA EUROPA',\n",
       "       'CÂMARA MUNICIPAL DE NOVA INDEPENDÊNCIA',\n",
       "       'PREFEITURA MUNICIPAL DE NOVA INDEPENDÊNCIA',\n",
       "       'PREFEITURA MUNICIPAL DE NOVAIS',\n",
       "       'COMPANHIA DE DESENVOLVIMENTO DE NOVA ODESSA                 ',\n",
       "       'PREFEITURA MUNICIPAL DE NOVA ODESSA',\n",
       "       'PREFEITURA MUNICIPAL DE NOVO HORIZONTE',\n",
       "       'PREFEITURA MUNICIPAL DE NUPORANGA',\n",
       "       'PREFEITURA MUNICIPAL DE OCAUÇU',\n",
       "       'PREFEITURA MUNICIPAL DE OLÍMPIA',\n",
       "       'PREFEITURA MUNICIPAL DE ONDA VERDE',\n",
       "       'PREFEITURA MUNICIPAL DE ORIENTE',\n",
       "       'PREFEITURA MUNICIPAL DE ORINDIUVA', 'CÂMARA MUNICIPAL DE OSASCO',\n",
       "       'FUNDAÇÃO INSTITUTO TECNOLÓGICO DE OSASCO',\n",
       "       'INSTITUTO DE PREVIDÊNCIA DO MUNICÍPIO DE OSASCO',\n",
       "       'PREFEITURA MUNICIPAL DE OSCAR BRESSANE',\n",
       "       'PREFEITURA MUNICIPAL DE OSVALDO CRUZ',\n",
       "       'CÂMARA MUNICIPAL DE OURINHOS', 'CÂMARA MUNICIPAL DE OUROESTE',\n",
       "       'PREFEITURA MUNICIPAL DE OUROESTE',\n",
       "       'PREFEITURA MUNICIPAL DE PACAEMBU',\n",
       "       'PREFEITURA MUNICIPAL DE  PALMARES PAULISTA',\n",
       "       'PREFEITURA MUNICIPAL DE PALMEIRA D OESTE',\n",
       "       'PREFEITURA MUNICIPAL DE PALMITAL',\n",
       "       'PREFEITURA MUNICIPAL DE PANORAMA',\n",
       "       'CÂMARA MUNICIPAL DE PARAGUAÇU PAULISTA',\n",
       "       'PREFEITURA MUNICIPAL DE PARAGUAÇU PAULISTA',\n",
       "       'PREFEITURA MUNICIPAL DE PARAIBUNA',\n",
       "       'PREFEITURA MUNICIPAL DE PARAÍSO',\n",
       "       'PREFEITURA MUNICIPAL DE PARANAPUÃ',\n",
       "       'PREFEITURA MUNICIPAL DE PARAPUÃ',\n",
       "       'PREFEITURA MUNICIPAL DE PARDINHO',\n",
       "       'PREFEITURA MUNICIPAL DE PARISI',\n",
       "       'PREFEITURA MUNICIPAL DE PAULICÉIA',\n",
       "       'CÂMARA MUNICIPAL DE PAULÍNIA', 'PREFEITURA MUNICIPAL DE PAULÍNIA',\n",
       "       'PREFEITURA MUNICIPAL DE PAULISTÂNIA',\n",
       "       'PREFEITURA MUNICIPAL DE PAULO DE FARIA',\n",
       "       'PREFEITURA MUNICIPAL DE PEDERNEIRAS',\n",
       "       'PREFEITURA MUNICIPAL DE PEDRA BELA',\n",
       "       'PREFEITURA MUNICIPAL DE PEDRANÓPOLIS',\n",
       "       'PREFEITURA MUNICIPAL DE PEDREGULHO',\n",
       "       'PREFEITURA MUNICIPAL DE PEDREIRA',\n",
       "       'SERVIÇO AUTÔNOMO DE ÁGUA E ESGOTO DE PEDREIRA',\n",
       "       'CÂMARA MUNICIPAL DE PEDRO DE TOLEDO',\n",
       "       'PREFEITURA MUNICIPAL DE PENÁPOLIS',\n",
       "       'CÂMARA MUNICIPAL DE PEREIRA BARRETO',\n",
       "       'PREFEITURA MUNICIPAL DE PEREIRA BARRETO',\n",
       "       'SERV AUTÔNOMO ÁGUA ESG. PEREIRA BARRETO',\n",
       "       'PREFEITURA MUNICIPAL DE PEREIRAS',\n",
       "       'PREFEITURA MUNICIPAL DA ESTÂNCIA BALNEÁRIA DE PERUIBE',\n",
       "       'PREFEITURA MUNICIPAL DE PIACATU',\n",
       "       'PREFEITURA MUNICIPAL DE PILAR DO SUL',\n",
       "       'PREFEITURA MUNICIPAL DE PINDORAMA',\n",
       "       'PREFEITURA MUNICIPAL DE PINHALZINHO',\n",
       "       'PREFEITURA MUNICIPAL DE PIQUEROBI', 'CÂMARA MUNICIPAL DE PIQUETE',\n",
       "       'PREFEITURA MUNICIPAL DE PIQUETE',\n",
       "       'CÂMARA MUNICIPAL DE PIRACICABA', 'FUNDACAO MUNICIPAL DE ENSINO',\n",
       "       'PREFEITURA MUNICIPAL DE PIRACICABA',\n",
       "       'SECRETARIA DA SEGURANCA PUBLICA / COMANDO DE POLICIAMENTO DO INTERIOR9 PIRACICABA',\n",
       "       'SECRETARIA DA SEGURANCA PUBLICA / DEPARTAMENTO POL.JUDICIARIA DE SAO PAULO INTERIORPIRACICABA',\n",
       "       'SEMAE   CNPJ 50.853.555/000154',\n",
       "       'UNIVERSIDADE DE SAO PAULO / USP ESCOLA SUPERIOR AGRICULTURA LUIZ DE QUEIROZ',\n",
       "       'PREFEITURA MUNICIPAL DE PIRAJU', 'CÂMARA MUNICIPAL DE PIRAJUÍ',\n",
       "       'PREFEITURA MUNICIPAL DE PIRAJUÍ',\n",
       "       'PREFEITURA MUNICIPAL DE PIRAPORA DO BOM JESUS',\n",
       "       'PREFEITURA MUNICIPAL DE PIRAPOZINHO',\n",
       "       'PREFEITURA MUNICIPAL DE PIRASSUNUNGA',\n",
       "       'SERVIÇO DE AGUA E ESGOTO DE PIRASSUNUNGA  SAEP',\n",
       "       'UNIVERSIDADE DE SAO PAULO / USP FACULDADE DE ZOOTECNIA E ENGENHARIA DE ALIMENTOS',\n",
       "       'UNIVERSIDADE DE SAO PAULO / USP PREFEITURA DO CAMPUS USP DE PIRASSUNUNGA',\n",
       "       'PREFEITURA MUNICIPAL DE PIRATININGA',\n",
       "       'CÂMARA MUNICIPAL DE PITANGUEIRAS',\n",
       "       'PREFEITURA MUNICIPAL DE PLANALTO',\n",
       "       'PREFEITURA MUNICIPAL DE PLATINA', 'PREFEITURA MUNICIPAL DE POÁ',\n",
       "       'PREFEITURA MUNICIPAL DE PONTAL',\n",
       "       'PREFEITURA MUNICIPAL DE PONTALINDA',\n",
       "       'PREFEITURA MUNICIPAL DE PONTES GESTAL',\n",
       "       'PREFEITURA MUNICIPAL DE POPULINA',\n",
       "       'PREFEITURA MUNICIPAL DE PORTO FELIZ',\n",
       "       'SECRETARIA DA ADMINISTRACAO PENITENCIARIA / CENTRO PROGR.PENITENC.DR.WALTER ERWIN HOFFGEN DE PORTO FELIZ',\n",
       "       'SERVIÇO AUTONOMO DE AGUA E ESGOTO DE PORTO FELIZ',\n",
       "       'PREFEITURA MUNICIPAL DE PORTO FERREIRA',\n",
       "       'CÂMARA MUNICIPAL DE POTIM', 'PREFEITURA MUNICIPAL DE POTIM',\n",
       "       'PREFEITURA MUNICIPAL DE POTIRENDABA',\n",
       "       'PREFEITURA MUNICIPAL DE PRACINHA',\n",
       "       'PREFEITURA MUNICIPAL DE PRADOPOLIS',\n",
       "       'PREFEITURA MUNICIPAL DE PRAIA GRANDE',\n",
       "       'CÂMARA MUNICIPAL DE PRATÂNIA', 'PREFEITURA MUNICIPAL DE PRATÂNIA',\n",
       "       'PREFEITURA MUNICIPAL DE PRESIDENTE BERNARDES',\n",
       "       'PREFEITURA MUNICIPAL DE PRESIDENTE PRUDENTE',\n",
       "       'PREFEITURA MUNICIPAL DE PRESIDENTE VENCESLAU',\n",
       "       'SERVIÇO AUTÔNOMO DE ÁGUA E ESGOTO DE PROMISSÃO',\n",
       "       'PREFEITURA MUNICIPAL DE QUATA', 'PREFEITURA MUNICIPAL DE RAFARD',\n",
       "       'PREFEITURA MUNICIPAL DE RANCHARIA',\n",
       "       'PREFEITURA MUNICIPAL DE REDENÇÃO DA SERRA',\n",
       "       'PREFEITURA MUNICIPAL DE REGENTE FEIJÓ',\n",
       "       'PREFEITURA MUNICIPAL DE REGINOPOLIS',\n",
       "       'PREFEITURA MUNICIPAL DE REGISTRO',\n",
       "       'PREFEITURA MUNICIPAL DE RESTINGA',\n",
       "       'PREFEITURA MUNICIPAL DE RIBEIRÃO BONITO',\n",
       "       'PREFEITURA MUNICIPAL DE RIBEIRÃO BRANCO',\n",
       "       'PREFEITURA MUNICIPAL DE RIBEIRÃO DO SUL',\n",
       "       'PREFEITURA MUNICIPAL DE RIBEIRÃO GRANDE',\n",
       "       'PREFEITURA MUNICIPAL DE RIBEIRÃO PIRES',\n",
       "       'DEP. DE ÁGUA E ESGOTO DE RIBEIRÃO PRETO',\n",
       "       'FUNDACAO APOIO ENSINO PESQ HOSP CLINICAS RIB PRETO',\n",
       "       'FUNDAÇÃO INSTITUTO PÓLO AVANÇADO DA SAÚDE  FIPASE',\n",
       "       'PREFEITURA MUNICIPAL DE RIBEIRÃO PRETO',\n",
       "       'SECRETARIA DA SAUDE / HOSPITAL CLINICAS FAC MEDICINA RIBEIRAO PRETO USP',\n",
       "       'SERV. ASSIST. SAÚDE DOS MUN. DE RIB. PRETO  SASSOM',\n",
       "       'UNIVERSIDADE DE SAO PAULO / USP FACULDADE DE DIREITO DO CAMPUS DE RIBEIRAO PRETO',\n",
       "       'UNIVERSIDADE DE SAO PAULO / USP FACULDADE DE FILOSOFIA CIENC.LETRAS RIBEIRAO PRETO',\n",
       "       'UNIVERSIDADE DE SAO PAULO / USP FACULDADE DE MEDICINA RIBEIRAO PRETO',\n",
       "       'UNIVERSIDADE DE SAO PAULO / USP PREFEITURA DO CAMPUS DE RIBEIRAO PRETO',\n",
       "       'CÂMARA MUNICIPAL DE RIVERSUL', 'PREFEITURA MUNICIPAL DE RIVERSUL',\n",
       "       'PREFEITURA MUNICIPAL DE RIFAINA',\n",
       "       'PREFEITURA MUNICIPAL DE RINCÃO',\n",
       "       'PREFEITURA MUNICIPAL DE RINÓPOLIS', 'FUNDAÇÃO MUNICIPAL DE SAUDE',\n",
       "       'PREFEITURA MUNICIPAL DE RIO CLARO',\n",
       "       'UNIVERSIDADE ESTADUAL PAULISTA\"JULIO DE MESQUITA FILHO\" / INSTITUTO DE BIOCIENCIASUNESP  CAMPUS DE RIO CLARO',\n",
       "       'PREFEITURA MUNICIPAL DE RIO DAS PEDRAS',\n",
       "       'SERVIÇO AUTONOMO DE ÁGUA E ESGOTO  SAAE',\n",
       "       'CÂMARA MUNICIPAL DE RIO GRANDE DA SERRA',\n",
       "       'PREFEITURA MUNICIPAL DE RIO GRANDE DA SERRA',\n",
       "       'PREFEITURA MUNICIPAL DE ROSANA',\n",
       "       'UNIVERSIDADE ESTADUAL PAULISTA\"JULIO DE MESQUITA FILHO\" / CAMPUS UNESP EXPERIMENTAL DE ROSANA',\n",
       "       'PREFEITURA MUNICIPAL DE RUBIÁCEA',\n",
       "       'PREFEITURA MUNICIPAL DE RUBINÉIA',\n",
       "       'PREFEITURA MUNICIPAL DE SABINO', 'PREFEITURA MUNICIPAL DE SAGRES',\n",
       "       'PREFEITURA MUNICIPAL DE SALES',\n",
       "       'PREFEITURA MUNICIPAL DE SALES OLIVEIRA',\n",
       "       'PREFEITURA MUNICIPAL DE SALESOPOLIS',\n",
       "       'PREFEITURA MUNICIPAL DE SALMOURÃO',\n",
       "       'PREFEITURA MUNICIPAL DE SALTINHO',\n",
       "       'CONSORCIO INTERMUNICIPAL DO RIBEIRAO DO PIRAI',\n",
       "       'PREFEITURA MUNICIPAL DE SALTO',\n",
       "       'PREFEITURA MUNICIPAL DE SALTO DE PIRAPORA',\n",
       "       'PREFEITURA MUNICIPAL DE SALTO GRANDE ',\n",
       "       'PREFEITURA MUNICIPAL DE SANDOVALINA',\n",
       "       'PREFEITURA MUNICIPAL DE SANTA ADELIA',\n",
       "       'CÂMARA MUNICIPAL DE SANTA ALBERTINA',\n",
       "       'PREFEITURA MUNICIPAL DE SANTA ALBERTINA',\n",
       "       'DAE DEPARTAMENTO DE ÁGUA E ESGOTO DE SANTA BÁRBARA D OESTE',\n",
       "       'PREFEITURA MUNICIPAL DE SANTA BÁRBARA D OESTE',\n",
       "       'PREFEITURA MUNICIPAL DE SANTA BRANCA',\n",
       "       \"PREFEITURA MUNICIPAL DE SANTA CLARA D'OESTE\",\n",
       "       'PREFEITURA MUNICIPAL DE  SANTA CRUZ DA ESPERANCA',\n",
       "       'PREFEITURA MUNICIPAL DE SANTA CRUZ DAS PALMEIRAS',\n",
       "       'PREFEITURA MUNICIPAL DE SANTA CRUZ DO RIO PARDO',\n",
       "       'PREFEITURA MUNICIPAL DE SANTA ERNESTINA',\n",
       "       'CÂMARA MUNICIPAL DE SANTA FÉ DO SUL',\n",
       "       'PREFEITURA MUNICIPAL DE SANTA FÉ DO SUL',\n",
       "       'PREFEITURA MUNICIPAL DE SANTA GERTRUDES',\n",
       "       'PREFEITURA MUNICIPAL DE SANTA ISABEL',\n",
       "       'PREFEITURA MUNICIPAL DE SANTA MARIA DA SERRA',\n",
       "       'PREFEITURA MUNICIPAL DE SANTA MERCEDES',\n",
       "       'PREFEITURA MUNICIPAL DE SANTANA DA PONTE PENSA',\n",
       "       'CÂMARA MUNICIPAL DE SANTANA DE PARNAIBA',\n",
       "       'PREFEITURA MUNICIPAL DE SANTANA DE PARNAIBA',\n",
       "       \"PREFEITURA MUNICIPAL DE SANTA RITA D'OESTE\",\n",
       "       'PREFEITURA MUNICIPAL DE SANTA RITA DO PASSA QUATRO',\n",
       "       'PREFEITURA MUNICIPAL DE SANTA ROSA DE VITERBO',\n",
       "       'CÂMARA MUNICIPAL DE SANTA SALETE',\n",
       "       'PREFEITURA MUNICIPAL DE SANTA SALETE',\n",
       "       'PREFEITURA MUNICIPAL DE SANTO ANASTÁCIO',\n",
       "       'CÂMARA MUNICIPAL DE SANTO ANDRÉ',\n",
       "       'CONSORCIO INTERMUNICIPAL GRANDE ABC',\n",
       "       'PREFEITURA MUNICIPAL DE SANTO ANDRÉ',\n",
       "       'SERVIÇO MUNICIPAL DE SANEAMENTO AMBIENTAL DE SANTO ANDRÉ  SEMASA',\n",
       "       'PREFEITURA MUNICIPAL DE SANTO ANTÔNIO DA ALEGRIA',\n",
       "       'PREFEITURA MUNICIPAL DE SANTO ANTONIO DE POSSE',\n",
       "       'PREFEITURA MUNICIPAL DE SANTO ANTÔNIO DO ARACANGUÁ',\n",
       "       'CÂMARA MUNICIPAL DE SANTO ANTÔNIO DO PINHAL',\n",
       "       'PREFEITURA MUNICIPAL DE SANTO ANTÔNIO DO PINHAL',\n",
       "       'PREFEITURA MUNICIPAL DE SANTO EXPEDITO',\n",
       "       'PREFEITURA MUNICIPAL DE SANTÓPOLIS DO AGUAPEÍ',\n",
       "       'CÂMARA MUNICIPAL DE SANTOS',\n",
       "       'CIA DE ENGENHARIA E TRAFEGO  SANTOS                        ',\n",
       "       'CIA DE HABITACAO DA BAIXADA SANTISTA                        ',\n",
       "       'PREFEITURA MUNICIPAL DE SANTOS',\n",
       "       'SECRETARIA DA SEGURANCA PUBLICA / DEPART. DE POLICIA JUDICIARIA S.P. INTERIOR  SANTOS',\n",
       "       'CÂMARA MUNICIPAL DE SÃO BENTO DO SAPUCAÍ',\n",
       "       'PREFEITURA MUNICIPAL DE SÃO BENTO DO SAPUCAÍ',\n",
       "       'FACULDADE DE DIREITO DE SÃO BERNARDO DO CAMPO',\n",
       "       'PREFEITURA MUNICIPAL DE SÃO BERNARDO DO CAMPO',\n",
       "       'SECRETARIA DOS TRANSPORTES METROPOLITANOS / EMPRESA METROPOLITANA TRANSPORTES URBANOS SAO PAULO S/A',\n",
       "       'PREFEITURA MUNICIPAL DE SÃO CAETANO DO SUL',\n",
       "       'SISTEMA DE AGUA E ESGOTO E SANEAMENTO AMBIENTAL  SAESA',\n",
       "       'UNIVERSIDADE MUNICIPAL DE SÃO CAETANO DO SUL  USCS',\n",
       "       'PREFEITURA MUNICIPAL DE SÃO CARLOS',\n",
       "       'PROHAB  PROGRESSO E HABITAÇÃO DE SÃO CARLOS',\n",
       "       'UNIVERSIDADE DE SAO PAULO / USPCENTRO DE DIVULGACAO CIENTIFICA E CULTURAL',\n",
       "       'UNIVERSIDADE DE SAO PAULO / USP DA ESCOLA DE ENGENHARIA DE SAO CARLOS',\n",
       "       'UNIVERSIDADE DE SAO PAULO / USP DO INSTITUTO DE FISICA DE SAO CARLOS',\n",
       "       'UNIVERSIDADE DE SAO PAULO / USP DO INSTITUTO DE QUIMICA DE SAO CARLOS',\n",
       "       'UNIVERSIDADE DE SAO PAULO / USP INSTITUTO CIENC.MATEMATICAS E DE COMPUTACAO SAO CARLOS',\n",
       "       'UNIVERSIDADE DE SAO PAULO / USP INSTITUTO DE ARQUITETURA E URBANISMO',\n",
       "       'UNIVERSIDADE DE SAO PAULO / USP PREFEITURA DO CAMPUS USP DE SAO CARLOS',\n",
       "       'PREFEITURA MUNICIPAL DE SÃO FRANCISCO',\n",
       "       'CENTRO UNIV.DAS FACUL. ASSOS.DE ENSINO  FAE',\n",
       "       'PREFEITURA MUNICIPAL DE SÃO JOÃO DA BOA VISTA',\n",
       "       'PREFEITURA MUNICIPAL DE SÃO JOÃO DE IRACEMA',\n",
       "       'PREFEITURA MUNICIPAL DE SÃO JOÃO DO PAU D ALHO',\n",
       "       'CÂMARA MUNICIPAL DE SÃO JOAQUIM DA BARRA',\n",
       "       'PREFEITURA MUNICIPAL DE SÃO JOAQUIM DA BARRA',\n",
       "       'PREFEITURA MUNICIPAL DE SÃO JOSÉ DO RIO PARDO',\n",
       "       'PREFEITURA MUNICIPAL DE SÃO JOSÉ DO RIO PRETO',\n",
       "       'SERVIÇO MUNICIPAL AUTONÔMO DE ÁGUA E ESGOTOSEMAE.',\n",
       "       'UNIVERSIDADE ESTADUAL PAULISTA\"JULIO DE MESQUITA FILHO\" / INST.DE BIOCIENC.LET.E CIENC.EXATASUNESP CAMPUS S.J.R.PRETO',\n",
       "       'CÂMARA MUNICIPAL DE SÃO JOSÉ DOS CAMPOS',\n",
       "       'INSTITUTO DE PREVIDENCIA DO SERVIDOR MUNICIPAL',\n",
       "       'PREFEITURA MUNICIPAL DE SÃO JOSÉ DOS CAMPOS',\n",
       "       'PREFEITURA MUNICIPAL DE SÃO LOURENÇO DA SERRA',\n",
       "       'PREFEITURA MUNICIPAL DE SÃO LUIZ DO PARAITINGA',\n",
       "       'PREFEITURA MUNICIPAL DE SÃO MANUEL',\n",
       "       'PREFEITURA MUNICIPAL DE SÃO MIGUEL ARCANJO',\n",
       "       'ASSEMBLEIA LEGISLATIVA DO ESTADO DE SAO PAULO',\n",
       "       'CASA CIVIL / DEPARTAMENTO DE ADMINISTRACAOFUSSP',\n",
       "       'DEPARTAMENTO AEROVIARIO DO ESTADO DE SAO PAULO / DEPARTAMENTO AEROVIARIO DO ESTADO DE SAO PAULOCAPITAL',\n",
       "       'DEPARTAMENTO DE ESTRADAS DE RODAGEM / DEPARTAMENTO DE ESTRADAS DE RODAGEMCAPITAL',\n",
       "       'FUNDACAO BUTANTAN', 'MINISTERIO PUBLICO',\n",
       "       'MINISTERIO PUBLICO / FEDMINISTERIO PUBLICO',\n",
       "       'MINISTERIO PUBLICO / GABINETE DO PROCURADOR GERAL DA JUSTICA',\n",
       "       'SECRETARIA DA ADMINISTRACAO PENITENCIARIA / COORD.DE UNID.PRISIONAIS DA REG. METROPOLITANA DE SP',\n",
       "       'SECRETARIA DA ADMINISTRACAO PENITENCIARIA / GABINETE DO SECRETARIO E ASSESSORIAS',\n",
       "       'SECRETARIA DA AGRICULTURA E ABASTECIMENTO / INSTITUTO BIOLOGICO',\n",
       "       'SECRETARIA DA CULTURA, ECONOMIA E INDUSTRIA CRIATIVAS / FUNDACAO MEMORIAL DA AMERICA LATINA',\n",
       "       'SECRETARIA DA EDUCACAO / FUNDACAO PARA O DESENVOLVIMENTO DA EDUCACAO',\n",
       "       'SECRETARIA DA FAZENDA E PLANEJAMENTO / DEPARTAMENTO DE SUPRIMENTOS E INFRAESTRUTURA',\n",
       "       'SECRETARIA DA JUSTICA E CIDADANIA / FUNDACAO CENTRO DE ATEND.SOCIOEDUCATIVO AO ADOLESCENTE',\n",
       "       'SECRETARIA DA SAUDE / COORDENADORIA DE GESTAO ORCAMENTARIA E FINANCEIRA',\n",
       "       'SECRETARIA DA SAUDE / COORDENADORIA GERAL DE ADMINISTRACAO',\n",
       "       'SECRETARIA DA SAUDE / HOSPITAL DAS CLINICAS DA FACULDADE MEDICINA DA USP',\n",
       "       'SECRETARIA DA SAUDE / HOSPITAL MATERNIDADE INTERLAGOS\"WALDEMAR SEYSSELARRELIA\"',\n",
       "       'SECRETARIA DA SEGURANCA PUBLICA / 1ªDELEGACIA SECCIONAL DPTºPOL.JUDICIARIA DA CAPITAL',\n",
       "       'SECRETARIA DA SEGURANCA PUBLICA / 4ªDELEGACIA SECCIONAL DPTº DE POLICIA JUDICIARIA DA CAPITAL',\n",
       "       'SECRETARIA DE CIENCIA,TECNOLOGIA E INOVACAO / INSTITUTO DE PESQUISAS TECNOLOGICAS DO ESTADO DE SAO PAULO',\n",
       "       'SECRETARIA DE DESENVOLVIMENTO URBANO E HABITACAO / COMPANHIA DESENVOLVIMENTO HAB URB EST SAO PAULO',\n",
       "       'SECRETARIA DE MEIO AMBIENTE INFRAESTRUTURA E LOGISTICA / CIA DE SANEAMENTO BASICO DO ESTADO DE SAO PAULO  SABESP',\n",
       "       'SECRETARIA DE MEIO AMBIENTE INFRAESTRUTURA E LOGISTICA / COORDENADORIA DE FAUNA SILVESTRE',\n",
       "       'SECRETARIA DE MEIO AMBIENTE INFRAESTRUTURA E LOGISTICA / EMPRESA METROPOLITANA DE AGUAS E ENERGIA S/A EMAE',\n",
       "       'SECRETARIA DE MEIO AMBIENTE INFRAESTRUTURA E LOGISTICA / FUNDACAO PARA CONSERV.E PRODUCAO FLORESTAL DO EST.SAO PAULO',\n",
       "       'SECRETARIA DOS TRANSPORTES METROPOLITANOS / CIA PAULISTA DE TRENS METROPOLITANOS',\n",
       "       'SECRETARIA DOS TRANSPORTES METROPOLITANOS / COMPANHIA DO METROPOLITANO DE SAO PAULO',\n",
       "       'TRIBUNAL DE CONTAS DO ESTADO DE SAO PAULO', 'TRIBUNAL DE JUSTICA',\n",
       "       'UNIVERSIDADE DE SAO PAULO / USPESCOLA DE EDUCACAO FISICA E ESPORTE',\n",
       "       'UNIVERSIDADE DE SAO PAULO / USPFACULDADE DE DIREITO',\n",
       "       'UNIVERSIDADE DE SAO PAULO / USPSUPERINTENDENCIA DO ESPACO FISICO',\n",
       "       'UNIVERSIDADE ESTADUAL PAULISTA\"JULIO DE MESQUITA FILHO\" / UNIVERS.EST.PAULISTA JULIO DE MESQUITA FILHOUNESP REITORIA',\n",
       "       'CÂMARA MUNICIPAL DE SÃO PEDRO',\n",
       "       'PREFEITURA MUNICIPAL DE SÃO PEDRO',\n",
       "       'PREFEITURA MUNICIPAL DE SÃO PEDRO DO TURVO',\n",
       "       'PREFEITURA MUNICIPAL DE SÃO ROQUE',\n",
       "       'CÂMARA MUNICIPAL DE SÃO SEBASTIÃO',\n",
       "       'FUNDAÇÃO PÚBLICA DEODATO SANTANA',\n",
       "       'PREFEITURA MUNICIPAL DE SÃO SEBASTIÃO DA GRAMA',\n",
       "       'CÂMARA MUNICIPAL DE SÃO VICENTE',\n",
       "       'PREFEITURA MUNICIPAL DE SÃO VICENTE',\n",
       "       'UNIVERSIDADE ESTADUAL PAULISTA\"JULIO DE MESQUITA FILHO\" / INST.DE BIOCIENCIASUNESP CAMPUS DO LIT.PAULISTASAO VICENTE',\n",
       "       'PREFEITURA MUNICIPAL DE SARAPUÍ', 'CÂMARA MUNICIPAL DE SARUTAIÁ',\n",
       "       'PREFEITURA MUNICIPAL DE SARUTAIÁ',\n",
       "       'PREFEITURA MUNICIPAL DE SERRA AZUL',\n",
       "       'CÂMARA MUNICIPAL DE SERRANA', 'PREFEITURA MUNICIPAL DE SERRANA',\n",
       "       'PREFEITURA MUNICIPAL DA ESTANCIA HIDROMINERAL DE SERRA NEGRA',\n",
       "       'CÂMARA MUNICIPAL DE SERTÃOZINHO',\n",
       "       'PREFEITURA MUNICIPAL DE SERTÃOZINHO',\n",
       "       'SERVIÇO AUTONOMO DE AGUA E ESGOTO E MEIO AMB.SERT',\n",
       "       'PREFEITURA MUNICIPAL DE SEVERINIA',\n",
       "       'SERVIÇO AUTONOMO DE AGUA E ESGOTO DO MUNICIPIO DE SEVERINIA',\n",
       "       'PREFEITURA MUNICIPAL DE SOCORRO',\n",
       "       'PREFEITURA MUNICIPAL DE SOROCABA',\n",
       "       'SECRETARIA DA SEGURANCA PUBLICA / 15 GRUPAMENTO DE BOMBEIROS  SOROCABA',\n",
       "       'SECRETARIA DA SEGURANCA PUBLICA / DELEGACIA SECCIONAL DE POLICIA DE SOROCABA',\n",
       "       'SERVIÇO AUTÔNOMO DE ÁGUA E ESGOTO DE SOROCABA',\n",
       "       'UNIVERSIDADE ESTADUAL PAULISTA\"JULIO DE MESQUITA FILHO\" / INSTITUTO DE CIENCIA E TECNOLOGIAUNESP CAMPUS DE SOROCABA',\n",
       "       'PREFEITURA MUNICIPAL DE SUD MENNUCCI',\n",
       "       'PREFEITURA MUNICIPAL DE SUZANO', 'CÂMARA MUNICIPAL DE TABAPUÃ',\n",
       "       'PREFEITURA MUNICIPAL DE TABATINGA',\n",
       "       'CÂMARA MUNICIPAL DE TABOÃO DA SERRA',\n",
       "       'PREFEITURA MUNICIPAL DE TABOÃO DA SERRA',\n",
       "       'SECRETARIA DE GESTAO E GOVERNO DIGITAL / CIA DE PROCESSAMENTO DE DADOS DO ESTADO DE SAO PAULO',\n",
       "       'TABOÃOPREV', 'PREFEITURA MUNICIPAL DE TACIBA',\n",
       "       'CÂMARA MUNICIPAL DE TAGUAI', 'PREFEITURA MUNICIPAL DE TAGUAI',\n",
       "       'PREFEITURA MUNICIPAL DE TAIAÇU', 'PREFEITURA MUNICIPAL DE TAIÚVA',\n",
       "       'PREFEITURA MUNICIPAL DE TAMBAÚ', 'PREFEITURA MUNICIPAL DE TANABI',\n",
       "       'PREFEITURA MUNICIPAL DE TAPIRAÍ',\n",
       "       'PREFEITURA MUNICIPAL DE TAPIRATIBA',\n",
       "       'PREFEITURA MUNICIPAL DE TAQUARAL',\n",
       "       'PREFEITURA MUNICIPAL DE TAQUARITINGA',\n",
       "       'PREFEITURA MUNICIPAL DE TAQUARITUBA',\n",
       "       'PREFEITURA MUNICIPAL DE TAQUARIVAÍ',\n",
       "       'PREFEITURA MUNICIPAL DE TARUMÃ', 'PREFEITURA MUNICIPAL DE TATUÍ',\n",
       "       'PREFEITURA MUNICIPAL DE TAUBATÉ', 'UNIVERSIDADE DE TAUBATE',\n",
       "       'CÂMARA MUNICIPAL DE TEJUPÁ', 'PREFEITURA MUNICIPAL DE TEJUPÁ',\n",
       "       'PREFEITURA MUNICIPAL DE TEODORO SAMPAIO',\n",
       "       'PREFEITURA MUNICIPAL DE TIETÊ',\n",
       "       'SAMAESERV.AUTONOMO MUNICIPAL AGUA E ESGOTO',\n",
       "       'PREFEITURA MUNICIPAL DE TIMBURI', 'CÂMARA MUNICIPAL DE TORRINHA',\n",
       "       'PREFEITURA MUNICIPAL DE TORRINHA',\n",
       "       'PREFEITURA MUNICIPAL DE TRABIJU',\n",
       "       'PREFEITURA MUNICIPAL DE TRÊS FRONTEIRAS',\n",
       "       'PREFEITURA MUNICIPAL DE TUIUTI', 'PREFEITURA MUNICIPAL DE TUPÃ',\n",
       "       'UNIVERSIDADE ESTADUAL PAULISTA\"JULIO DE MESQUITA FILHO\" / FACULDADE DE CIENCIAS E ENGENHARIAUNESP CAMPUS DE TUPA',\n",
       "       'PREFEITURA MUNICIPAL DE TUPI PAULISTA',\n",
       "       'PREFEITURA MUNICIPAL DE TURIÚBA',\n",
       "       'PREFEITURA MUNICIPAL DE TURMALINA', 'CÂMARA MUNICIPAL DE UBARANA',\n",
       "       'PREFEITURA MUNICIPAL DE UBARANA',\n",
       "       'PREFEITURA MUNICIPAL DE UBATUBA', 'PREFEITURA MUNICIPAL DE UCHOA',\n",
       "       'PREFEITURA MUNICIPAL DE URÂNIA', 'PREFEITURA MUNICIPAL DE URU',\n",
       "       'PREFEITURA MUNICIPAL DE URUPÊS',\n",
       "       'PREFEITURA MUNICIPAL DE VALENTIM GENTIL',\n",
       "       'DEPARTAMENTO DE ÁGUAS E ESGOTOS DE VALINHOS',\n",
       "       'PREFEITURA MUNICIPAL DE VALINHOS',\n",
       "       'CÂMARA MUNICIPAL DE VALPARAÍSO',\n",
       "       'DEPARTAMENTO DE ÁGUA E ESGOTOS DE VALPARAÍSO',\n",
       "       'PREFEITURA MUNICIPAL DE VALPARAÍSO',\n",
       "       'PREFEITURA MUNICIPAL DE VARGEM GRANDE DO SUL',\n",
       "       'PREFEITURA MUNICIPAL DE VÁRZEA PAULISTA',\n",
       "       'PREFEITURA MUNICIPAL DE VINHEDO',\n",
       "       'PREFEITURA MUNICIPAL DE VIRADOURO',\n",
       "       'PREFEITURA MUNICIPAL DE VISTA ALEGRE DO ALTO',\n",
       "       'PREFEITURA MUNICIPAL  DE VITORIA BRASIL',\n",
       "       'PREFEITURA MUNICIPAL DE VOTORANTIM',\n",
       "       'CÂMARA MUNICIPAL DE VOTUPORANGA',\n",
       "       'INSTITUTO DE PREVIDÊNCIA DO MUNICÍPIO DE VOTUPORANGA',\n",
       "       'PREFEITURA MUNICIPAL DE VOTUPORANGA',\n",
       "       'SUPERINTEND.DE AGUA,ESGOTOS E MEIO AMBIENTE DE VOTUPORANGA',\n",
       "       'PREFEITURA MUNICIPAL DE ZACARIAS',\n",
       "       'PREFEITURA MUNICIPAL DE CHAVANTES',\n",
       "       'CÂMARA MUNICIPAL DE ESTIVA GERBI',\n",
       "       'PREFEITURA MUNICIPAL DE ESTIVA GERBI'], dtype=object)"
      ]
     },
     "execution_count": 35,
     "metadata": {},
     "output_type": "execute_result"
    }
   ],
   "source": [
    "df_tratado['Contratante'].unique()         "
   ]
  },
  {
   "cell_type": "code",
   "execution_count": 36,
   "id": "cbd56cf7",
   "metadata": {},
   "outputs": [
    {
     "data": {
      "text/plain": [
       "<Axes: xlabel='Âmbito'>"
      ]
     },
     "execution_count": 36,
     "metadata": {},
     "output_type": "execute_result"
    },
    {
     "data": {
      "image/png": "[encoded data removed]",
      "text/plain": [
       "<Figure size 640x480 with 1 Axes>"
      ]
     },
     "metadata": {},
     "output_type": "display_data"
    }
   ],
   "source": [
    "df_tratado['Âmbito'].value_counts().plot(kind='bar')"
   ]
  },
  {
   "cell_type": "code",
   "execution_count": 37,
   "id": "f5416a65",
   "metadata": {},
   "outputs": [
    {
     "data": {
      "text/plain": [
       "<Axes: xlabel='Situação'>"
      ]
     },
     "execution_count": 37,
     "metadata": {},
     "output_type": "execute_result"
    },
    {
     "data": {
      "image/png": "[encoded data removed]",
      "text/plain": [
       "<Figure size 640x480 with 1 Axes>"
      ]
     },
     "metadata": {},
     "output_type": "display_data"
    }
   ],
   "source": [
    "df_tratado['Situação'].value_counts().plot(kind='bar')"
   ]
  },
  {
   "cell_type": "code",
   "execution_count": 38,
   "id": "365027f1",
   "metadata": {},
   "outputs": [
    {
     "name": "stdout",
     "output_type": "stream",
     "text": [
      "Situação\n",
      "Em execução  no prazo    90.8\n",
      "Em execução  atrasada     6.2\n",
      "Paralisada                3.0\n",
      "Name: proportion, dtype: float64\n"
     ]
    }
   ],
   "source": [
    "frequencia_percentual = df_tratado['Situação'].value_counts(normalize=True) * 100\n",
    "frequencia_percentual = frequencia_percentual.round(1)\n",
    "\n",
    "print(frequencia_percentual)"
   ]
  },
  {
   "cell_type": "code",
   "execution_count": null,
   "id": "ae3323ae",
   "metadata": {},
   "outputs": [
    {
     "name": "stdout",
     "output_type": "stream",
     "text": [
      "Ano do Contrato  Situação             \n",
      "2017             Em execução  no prazo    97.2\n",
      "                 Em execução  atrasada     2.2\n",
      "                 Paralisada                0.6\n",
      "2018             Em execução  no prazo    96.5\n",
      "                 Em execução  atrasada     2.2\n",
      "                 Paralisada                1.3\n",
      "2019             Em execução  no prazo    95.7\n",
      "                 Paralisada                2.2\n",
      "                 Em execução  atrasada     2.1\n",
      "2020             Em execução  no prazo    95.9\n",
      "                 Em execução  atrasada     2.3\n",
      "                 Paralisada                1.8\n",
      "2021             Em execução  no prazo    93.6\n",
      "                 Em execução  atrasada     3.7\n",
      "                 Paralisada                2.7\n",
      "2022             Em execução  no prazo    88.6\n",
      "                 Em execução  atrasada     7.8\n",
      "                 Paralisada                3.6\n",
      "2023             Em execução  no prazo    84.1\n",
      "                 Em execução  atrasada    11.5\n",
      "                 Paralisada                4.4\n",
      "2024             Em execução  no prazo    83.9\n",
      "                 Em execução  atrasada    11.3\n",
      "                 Paralisada                4.8\n",
      "2025             Em execução  no prazo    89.1\n",
      "                 Em execução  atrasada     6.2\n",
      "                 Paralisada                4.7\n",
      "dtype: float64\n"
     ]
    }
   ],
   "source": [
    "# Assumindo que você tenha uma coluna 'year' no seu DataFrame 'df'\n",
    "\n",
    "# Calcula a frequência de cada tipo de trabalho por ano\n",
    "frequencia_por_ano = df_tratado.groupby('Ano do Contrato')['Situação'].value_counts()\n",
    "\n",
    "# Calcula o total de observações por ano para normalização\n",
    "total_por_ano = df_tratado.groupby('Ano do Contrato').size()\n",
    "\n",
    "# Calcula a frequência percentual por ano e por tipo de trabalho\n",
    "frequencia_percentual_por_ano = (frequencia_por_ano_job / total_por_ano).mul(100).round(1)\n",
    "\n",
    "print(frequencia_percentual_por_ano)"
   ]
  },
  {
   "cell_type": "code",
   "execution_count": 43,
   "id": "61abc67f",
   "metadata": {},
   "outputs": [
    {
     "name": "stdout",
     "output_type": "stream",
     "text": [
      "Contagem de obras por Ano do Contrato:\n",
      "Ano do Contrato\n",
      "2017     319\n",
      "2018     867\n",
      "2019    1098\n",
      "2020    1227\n",
      "2021     784\n",
      "2022    1323\n",
      "2023    1315\n",
      "2024    1307\n",
      "2025      64\n",
      "Name: count, dtype: int64\n",
      "Ano do Contrato\n",
      "2017     3.8\n",
      "2018    10.4\n",
      "2019    13.2\n",
      "2020    14.8\n",
      "2021     9.4\n",
      "2022    15.9\n",
      "2023    15.8\n",
      "2024    15.7\n",
      "2025     0.8\n",
      "Name: count, dtype: float64\n"
     ]
    }
   ],
   "source": [
    "# Contagem de obras por ano (número bruto)\n",
    "contagem_por_ano = df_tratado['Ano do Contrato'].value_counts().sort_index()\n",
    "\n",
    "# Converter para int quando possível (caso os anos venham como strings)\n",
    "try:\n",
    "    contagem_por_ano.index = contagem_por_ano.index.astype(int)\n",
    "    contagem_por_ano = contagem_por_ano.sort_index()\n",
    "except Exception:\n",
    "    pass\n",
    "\n",
    "# Mostrar a contagem por ano\n",
    "print('Contagem de obras por Ano do Contrato:')\n",
    "print(contagem_por_ano)\n",
    "\n",
    "# Frequência percentual por ano (opcional)\n",
    "frequencia_percentual_ano = (contagem_por_ano / contagem_por_ano.sum()).mul(100).round(1)\n",
    "print(frequencia_percentual_ano)\n",
    "\n",
    "\n",
    "\n",
    "\n",
    "\n",
    "\n",
    "\n",
    "\n",
    "\n",
    "\n",
    "\n",
    "\n",
    "# Verificando a validade do arquivo nessa codificaçãoplt.show()plt.tight_layout()plt.title('Quantidade de obras por ano')plt.ylabel('Quantidade de Obras')plt.xlabel('Ano do Contrato')contagem_por_ano.plot(kind='bar')plt.figure(figsize=(10,5))import matplotlib.pyplot as plt# Plotar gráfico de barras simples (funciona dentro do notebook)print(frequencia_percentual_ano)Frequência percentual por ano:')"
   ]
  }
 ],
 "metadata": {
  "kernelspec": {
   "display_name": "Python 3",
   "language": "python",
   "name": "python3"
  },
  "language_info": {
   "codemirror_mode": {
    "name": "ipython",
    "version": 3
   },
   "file_extension": ".py",
   "mimetype": "text/x-python",
   "name": "python",
   "nbconvert_exporter": "python",
   "pygments_lexer": "ipython3",
   "version": "3.12.1"
  }
 },
 "nbformat": 4,
 "nbformat_minor": 5
}
