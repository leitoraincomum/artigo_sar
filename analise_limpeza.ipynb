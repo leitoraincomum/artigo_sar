{
 "cells": [
  {
   "cell_type": "code",
   "execution_count": 44,
   "id": "ce077cdb",
   "metadata": {},
   "outputs": [],
   "source": [
    "#Carregando  bibliotecas\n",
    "import pandas as pd\n",
    "import io\n",
    "import os\n",
    "import csv"
   ]
  },
  {
   "cell_type": "markdown",
   "id": "4ee99433",
   "metadata": {},
   "source": [
    "# Verificando a validade do arquivo nessa codificação"
   ]
  },
  {
   "cell_type": "code",
   "execution_count": 2,
   "id": "395bb65e",
   "metadata": {},
   "outputs": [
    {
     "name": "stdout",
     "output_type": "stream",
     "text": [
      "Arquivo existe? True\n",
      "Arquivo pode ser aberto!\n"
     ]
    }
   ],
   "source": [
    "caminho_arquivo = 'Dataset/obras.csv'\n",
    "print('Arquivo existe?', os.path.exists(caminho_arquivo))\n",
    "try:\n",
    "    with open(caminho_arquivo, 'r', encoding='utf-8') as f:\n",
    "        print('Arquivo pode ser aberto!')\n",
    "except Exception as e:\n",
    "    print('Erro ao abrir o arquivo:', e)"
   ]
  },
  {
   "cell_type": "code",
   "execution_count": 26,
   "id": "d8eaa17c",
   "metadata": {},
   "outputs": [
    {
     "ename": "ParserError",
     "evalue": "Error tokenizing data. C error: Expected 9 fields in line 57, saw 10\n",
     "output_type": "error",
     "traceback": [
      "\u001b[31m---------------------------------------------------------------------------\u001b[39m",
      "\u001b[31mParserError\u001b[39m                               Traceback (most recent call last)",
      "\u001b[36mCell\u001b[39m\u001b[36m \u001b[39m\u001b[32mIn[26]\u001b[39m\u001b[32m, line 4\u001b[39m\n\u001b[32m      1\u001b[39m \u001b[38;5;66;03m# Verificado que no último campo do cabeçalho tem alguns ;\u001b[39;00m\n\u001b[32m      2\u001b[39m \u001b[38;5;66;03m# Verificar maneiras de tratar\u001b[39;00m\n\u001b[32m      3\u001b[39m \u001b[38;5;66;03m#df = pd.read_csv(caminho_arquivo, sep=';', encoding='utf-8')\u001b[39;00m\n\u001b[32m----> \u001b[39m\u001b[32m4\u001b[39m df = \u001b[43mpd\u001b[49m\u001b[43m.\u001b[49m\u001b[43mread_csv\u001b[49m\u001b[43m(\u001b[49m\u001b[43mcaminho_arquivo\u001b[49m\u001b[43m,\u001b[49m\u001b[43m \u001b[49m\u001b[43msep\u001b[49m\u001b[43m=\u001b[49m\u001b[33;43m'\u001b[39;49m\u001b[33;43m;\u001b[39;49m\u001b[33;43m'\u001b[39;49m\u001b[43m,\u001b[49m\u001b[43m \u001b[49m\u001b[43mencoding\u001b[49m\u001b[43m=\u001b[49m\u001b[33;43m'\u001b[39;49m\u001b[33;43mutf-8\u001b[39;49m\u001b[33;43m'\u001b[39;49m\u001b[43m)\u001b[49m\n\u001b[32m      5\u001b[39m \u001b[38;5;66;03m#df = pd.read_csv(caminho_arquivo, encoding='utf-8')\u001b[39;00m\n",
      "\u001b[36mFile \u001b[39m\u001b[32mc:\\Users\\fcristso\\AppData\\Local\\Programs\\Python\\Python312\\Lib\\site-packages\\pandas\\io\\parsers\\readers.py:1026\u001b[39m, in \u001b[36mread_csv\u001b[39m\u001b[34m(filepath_or_buffer, sep, delimiter, header, names, index_col, usecols, dtype, engine, converters, true_values, false_values, skipinitialspace, skiprows, skipfooter, nrows, na_values, keep_default_na, na_filter, verbose, skip_blank_lines, parse_dates, infer_datetime_format, keep_date_col, date_parser, date_format, dayfirst, cache_dates, iterator, chunksize, compression, thousands, decimal, lineterminator, quotechar, quoting, doublequote, escapechar, comment, encoding, encoding_errors, dialect, on_bad_lines, delim_whitespace, low_memory, memory_map, float_precision, storage_options, dtype_backend)\u001b[39m\n\u001b[32m   1013\u001b[39m kwds_defaults = _refine_defaults_read(\n\u001b[32m   1014\u001b[39m     dialect,\n\u001b[32m   1015\u001b[39m     delimiter,\n\u001b[32m   (...)\u001b[39m\u001b[32m   1022\u001b[39m     dtype_backend=dtype_backend,\n\u001b[32m   1023\u001b[39m )\n\u001b[32m   1024\u001b[39m kwds.update(kwds_defaults)\n\u001b[32m-> \u001b[39m\u001b[32m1026\u001b[39m \u001b[38;5;28;01mreturn\u001b[39;00m \u001b[43m_read\u001b[49m\u001b[43m(\u001b[49m\u001b[43mfilepath_or_buffer\u001b[49m\u001b[43m,\u001b[49m\u001b[43m \u001b[49m\u001b[43mkwds\u001b[49m\u001b[43m)\u001b[49m\n",
      "\u001b[36mFile \u001b[39m\u001b[32mc:\\Users\\fcristso\\AppData\\Local\\Programs\\Python\\Python312\\Lib\\site-packages\\pandas\\io\\parsers\\readers.py:626\u001b[39m, in \u001b[36m_read\u001b[39m\u001b[34m(filepath_or_buffer, kwds)\u001b[39m\n\u001b[32m    623\u001b[39m     \u001b[38;5;28;01mreturn\u001b[39;00m parser\n\u001b[32m    625\u001b[39m \u001b[38;5;28;01mwith\u001b[39;00m parser:\n\u001b[32m--> \u001b[39m\u001b[32m626\u001b[39m     \u001b[38;5;28;01mreturn\u001b[39;00m \u001b[43mparser\u001b[49m\u001b[43m.\u001b[49m\u001b[43mread\u001b[49m\u001b[43m(\u001b[49m\u001b[43mnrows\u001b[49m\u001b[43m)\u001b[49m\n",
      "\u001b[36mFile \u001b[39m\u001b[32mc:\\Users\\fcristso\\AppData\\Local\\Programs\\Python\\Python312\\Lib\\site-packages\\pandas\\io\\parsers\\readers.py:1923\u001b[39m, in \u001b[36mTextFileReader.read\u001b[39m\u001b[34m(self, nrows)\u001b[39m\n\u001b[32m   1916\u001b[39m nrows = validate_integer(\u001b[33m\"\u001b[39m\u001b[33mnrows\u001b[39m\u001b[33m\"\u001b[39m, nrows)\n\u001b[32m   1917\u001b[39m \u001b[38;5;28;01mtry\u001b[39;00m:\n\u001b[32m   1918\u001b[39m     \u001b[38;5;66;03m# error: \"ParserBase\" has no attribute \"read\"\u001b[39;00m\n\u001b[32m   1919\u001b[39m     (\n\u001b[32m   1920\u001b[39m         index,\n\u001b[32m   1921\u001b[39m         columns,\n\u001b[32m   1922\u001b[39m         col_dict,\n\u001b[32m-> \u001b[39m\u001b[32m1923\u001b[39m     ) = \u001b[38;5;28;43mself\u001b[39;49m\u001b[43m.\u001b[49m\u001b[43m_engine\u001b[49m\u001b[43m.\u001b[49m\u001b[43mread\u001b[49m\u001b[43m(\u001b[49m\u001b[43m  \u001b[49m\u001b[38;5;66;43;03m# type: ignore[attr-defined]\u001b[39;49;00m\n\u001b[32m   1924\u001b[39m \u001b[43m        \u001b[49m\u001b[43mnrows\u001b[49m\n\u001b[32m   1925\u001b[39m \u001b[43m    \u001b[49m\u001b[43m)\u001b[49m\n\u001b[32m   1926\u001b[39m \u001b[38;5;28;01mexcept\u001b[39;00m \u001b[38;5;167;01mException\u001b[39;00m:\n\u001b[32m   1927\u001b[39m     \u001b[38;5;28mself\u001b[39m.close()\n",
      "\u001b[36mFile \u001b[39m\u001b[32mc:\\Users\\fcristso\\AppData\\Local\\Programs\\Python\\Python312\\Lib\\site-packages\\pandas\\io\\parsers\\c_parser_wrapper.py:234\u001b[39m, in \u001b[36mCParserWrapper.read\u001b[39m\u001b[34m(self, nrows)\u001b[39m\n\u001b[32m    232\u001b[39m \u001b[38;5;28;01mtry\u001b[39;00m:\n\u001b[32m    233\u001b[39m     \u001b[38;5;28;01mif\u001b[39;00m \u001b[38;5;28mself\u001b[39m.low_memory:\n\u001b[32m--> \u001b[39m\u001b[32m234\u001b[39m         chunks = \u001b[38;5;28;43mself\u001b[39;49m\u001b[43m.\u001b[49m\u001b[43m_reader\u001b[49m\u001b[43m.\u001b[49m\u001b[43mread_low_memory\u001b[49m\u001b[43m(\u001b[49m\u001b[43mnrows\u001b[49m\u001b[43m)\u001b[49m\n\u001b[32m    235\u001b[39m         \u001b[38;5;66;03m# destructive to chunks\u001b[39;00m\n\u001b[32m    236\u001b[39m         data = _concatenate_chunks(chunks)\n",
      "\u001b[36mFile \u001b[39m\u001b[32mpandas/_libs/parsers.pyx:838\u001b[39m, in \u001b[36mpandas._libs.parsers.TextReader.read_low_memory\u001b[39m\u001b[34m()\u001b[39m\n",
      "\u001b[36mFile \u001b[39m\u001b[32mpandas/_libs/parsers.pyx:905\u001b[39m, in \u001b[36mpandas._libs.parsers.TextReader._read_rows\u001b[39m\u001b[34m()\u001b[39m\n",
      "\u001b[36mFile \u001b[39m\u001b[32mpandas/_libs/parsers.pyx:874\u001b[39m, in \u001b[36mpandas._libs.parsers.TextReader._tokenize_rows\u001b[39m\u001b[34m()\u001b[39m\n",
      "\u001b[36mFile \u001b[39m\u001b[32mpandas/_libs/parsers.pyx:891\u001b[39m, in \u001b[36mpandas._libs.parsers.TextReader._check_tokenize_status\u001b[39m\u001b[34m()\u001b[39m\n",
      "\u001b[36mFile \u001b[39m\u001b[32mpandas/_libs/parsers.pyx:2061\u001b[39m, in \u001b[36mpandas._libs.parsers.raise_parser_error\u001b[39m\u001b[34m()\u001b[39m\n",
      "\u001b[31mParserError\u001b[39m: Error tokenizing data. C error: Expected 9 fields in line 57, saw 10\n"
     ]
    }
   ],
   "source": [
    "# Verificado que no último campo do cabeçalho tem alguns ;\n",
    "# Verificar maneiras de tratar\n",
    "#df = pd.read_csv(caminho_arquivo, sep=';', encoding='utf-8')\n",
    "df = pd.read_csv(caminho_arquivo, sep=';', encoding='utf-8')\n",
    "#df = pd.read_csv(caminho_arquivo, encoding='utf-8')"
   ]
  },
  {
   "cell_type": "code",
   "execution_count": 25,
   "id": "f81cf153",
   "metadata": {},
   "outputs": [
    {
     "name": "stdout",
     "output_type": "stream",
     "text": [
      "A quantidade de linhas com mais de 9 colunas é: 141\n"
     ]
    }
   ],
   "source": [
    "with open(caminho_arquivo, 'r', encoding='utf-8') as f:\n",
    "    cont = 0\n",
    "    for i, linha in enumerate(f):\n",
    "        if linha.count(';')+1 > 9: #contar somente as linhas com mais de 9 colunas\n",
    "            cont +=1\n",
    "    print(f\"A quantidade de linhas com mais de 9 colunas é: {cont}\")"
   ]
  },
  {
   "cell_type": "markdown",
   "id": "880d420e",
   "metadata": {},
   "source": [
    "# Primeiro teste de normalização dos dados"
   ]
  },
  {
   "cell_type": "code",
   "execution_count": 8,
   "id": "8971790c",
   "metadata": {},
   "outputs": [],
   "source": [
    "# fazendo alterações do arquivo para o separador\n",
    "texto_normalizado = conteudo_arquivo.replace(',', ';')"
   ]
  },
  {
   "cell_type": "code",
   "execution_count": 9,
   "id": "cfac7002",
   "metadata": {},
   "outputs": [],
   "source": [
    "arquivo_normalizado = io.StringIO(texto_normalizado)"
   ]
  },
  {
   "cell_type": "code",
   "execution_count": 10,
   "id": "4533ec9d",
   "metadata": {},
   "outputs": [],
   "source": [
    "df = pd.read_csv(arquivo_normalizado)"
   ]
  },
  {
   "cell_type": "code",
   "execution_count": 11,
   "id": "405559fe",
   "metadata": {},
   "outputs": [
    {
     "data": {
      "text/html": [
       "<div>\n",
       "<style scoped>\n",
       "    .dataframe tbody tr th:only-of-type {\n",
       "        vertical-align: middle;\n",
       "    }\n",
       "\n",
       "    .dataframe tbody tr th {\n",
       "        vertical-align: top;\n",
       "    }\n",
       "\n",
       "    .dataframe thead th {\n",
       "        text-align: right;\n",
       "    }\n",
       "</style>\n",
       "<table border=\"1\" class=\"dataframe\">\n",
       "  <thead>\n",
       "    <tr style=\"text-align: right;\">\n",
       "      <th></th>\n",
       "      <th>Município;Situação;Âmbito;Valor do Contrato;Contratada;CNPJ da Contratada;Contratante;Ano do Contrato;Descrição da Obra</th>\n",
       "    </tr>\n",
       "  </thead>\n",
       "  <tbody>\n",
       "    <tr>\n",
       "      <th>0</th>\n",
       "      <td>Adamantina;Em execução  no prazo;MUNICIPAL;149...</td>\n",
       "    </tr>\n",
       "    <tr>\n",
       "      <th>1</th>\n",
       "      <td>Adamantina;Em execução  no prazo;MUNICIPAL;190...</td>\n",
       "    </tr>\n",
       "    <tr>\n",
       "      <th>2</th>\n",
       "      <td>Adamantina;Em execução  no prazo;MUNICIPAL;171...</td>\n",
       "    </tr>\n",
       "    <tr>\n",
       "      <th>3</th>\n",
       "      <td>Adamantina;Em execução  no prazo;MUNICIPAL;619...</td>\n",
       "    </tr>\n",
       "    <tr>\n",
       "      <th>4</th>\n",
       "      <td>Adamantina;Em execução  no prazo;MUNICIPAL;677...</td>\n",
       "    </tr>\n",
       "  </tbody>\n",
       "</table>\n",
       "</div>"
      ],
      "text/plain": [
       "  Município;Situação;Âmbito;Valor do Contrato;Contratada;CNPJ da Contratada;Contratante;Ano do Contrato;Descrição da Obra\n",
       "0  Adamantina;Em execução  no prazo;MUNICIPAL;149...                                                                     \n",
       "1  Adamantina;Em execução  no prazo;MUNICIPAL;190...                                                                     \n",
       "2  Adamantina;Em execução  no prazo;MUNICIPAL;171...                                                                     \n",
       "3  Adamantina;Em execução  no prazo;MUNICIPAL;619...                                                                     \n",
       "4  Adamantina;Em execução  no prazo;MUNICIPAL;677...                                                                     "
      ]
     },
     "execution_count": 11,
     "metadata": {},
     "output_type": "execute_result"
    }
   ],
   "source": [
    "df.head()"
   ]
  },
  {
   "cell_type": "code",
   "execution_count": null,
   "id": "573ad4c8",
   "metadata": {},
   "outputs": [],
   "source": [
    "   # Exportar para CSV, sem a coluna de índice\n",
    "df.to_csv('arquivo_tratado.csv', index=False)"
   ]
  },
  {
   "cell_type": "code",
   "execution_count": 59,
   "id": "52623231",
   "metadata": {},
   "outputs": [],
   "source": [
    "df2 = pd.read_csv('arquivo_tratado.csv')"
   ]
  },
  {
   "cell_type": "code",
   "execution_count": 61,
   "id": "f3b164ef",
   "metadata": {},
   "outputs": [
    {
     "name": "stdout",
     "output_type": "stream",
     "text": [
      "<class 'pandas.core.frame.DataFrame'>\n",
      "RangeIndex: 8304 entries, 0 to 8303\n",
      "Data columns (total 1 columns):\n",
      " #   Column                                                                                                                   Non-Null Count  Dtype \n",
      "---  ------                                                                                                                   --------------  ----- \n",
      " 0   Município;Situação;Âmbito;Valor do Contrato;Contratada;CNPJ da Contratada;Contratante;Ano do Contrato;Descrição da Obra  8304 non-null   object\n",
      "dtypes: object(1)\n",
      "memory usage: 65.0+ KB\n"
     ]
    }
   ],
   "source": [
    "df.info()"
   ]
  },
  {
   "cell_type": "markdown",
   "id": "6731e05f",
   "metadata": {},
   "source": [
    "# Fazendo um tratamento a partir da biblioteca padrão de arquivos csv"
   ]
  },
  {
   "cell_type": "code",
   "execution_count": 58,
   "id": "567d2fe0",
   "metadata": {},
   "outputs": [
    {
     "name": "stdout",
     "output_type": "stream",
     "text": [
      "['\\ufeffMunicípio', 'Situação', 'Âmbito', 'Valor do Contrato', 'Contratada', 'CNPJ da Contratada', 'Contratante', 'Ano do Contrato', 'Descrição da Obra']\n",
      "['Adamantina', 'Em execução  no prazo', 'MUNICIPAL', '149900', 'CONSTRUTORA LAIS LTDA', '65.437.543/000116', 'CENTRO UNIVERSITÁRIO DE ADAMANTINA', '2024', 'CONTRATAÇÃO DE EMPRESA DE ENGENHARIA ESPECIALIZADA EM SERVIÇOS DE IMPERMEABILIZAÇÃO NAS LAJES EXPOSTAS DO BLOCO V  CAMPUS II']\n",
      "['Adamantina', 'Em execução  no prazo', 'MUNICIPAL', '190000', 'CONSTRUTORA LAIS LTDA', '65.437.543/000116', 'CENTRO UNIVERSITÁRIO DE ADAMANTINA', '2024', 'CONTRATAÇÃO DE EMPRESA ESPECIALIZADA PARA EXECUÇÃO DE REFORMA EM TELHADO DE SETORES ADMINISTRATIVOS DO CAMPUS I DO CENTRO UNIVERSITÁRIO DE ADAMANTINA INCLUSOS MÃO DE OBRA E MATERIAIS']\n",
      "['Adamantina', 'Em execução  no prazo', 'MUNICIPAL', '171922,66', 'RYAN CARLOS LOPES SANTOS LTDA', '45.144.840/000166', 'CENTRO UNIVERSITÁRIO DE ADAMANTINA', '2023', 'CONTRATACAO DE EMPRESA ESPECIALIZADA PARA CONSTRUCAO DE PONTO DE APOIO PARA HORTA SOLIDARIA NO CAMPUS II DO CENTRO UNIVERSITARIO DE ADAMANTINA.']\n",
      "['Adamantina', 'Em execução  no prazo', 'MUNICIPAL', '619313,93', 'JG ESQUADRIAS METALICAS LTDA', '11.011.268/000145', 'CENTRO UNIVERSITÁRIO DE ADAMANTINA', '2022', 'CONTRATAÇÃO DE EMPRESA ESPECIALIZADA PARA REALIZAÇÃO DE OBRAS DE ACESSIBILIDADE E COBERTURA DE RAMPA NO CAMPUS II (BLOCO) DA UNIFAI']\n"
     ]
    }
   ],
   "source": [
    "dados = []\n",
    "with open(caminho_arquivo, 'r', encoding='utf-8') as f:\n",
    "    leitor = csv.reader(f, delimiter=';')\n",
    "    for linha in leitor:\n",
    "        if len(linha) > 9:\n",
    "            # Junta tudo após o oitavo índice na última coluna\n",
    "            nova_linha = linha[:8] + [';'.join(linha[8:])]\n",
    "            dados.append(nova_linha)\n",
    "        else:\n",
    "            dados.append(linha)\n",
    "\n",
    "# Exibir as 5 primeiras linhas\n",
    "for l in dados[:5]:\n",
    "    print(l)"
   ]
  },
  {
   "cell_type": "code",
   "execution_count": 57,
   "id": "f7cd93eb",
   "metadata": {},
   "outputs": [
    {
     "name": "stdout",
     "output_type": "stream",
     "text": [
      "['Adamantina', 'Em execução  no prazo', 'MUNICIPAL', '619313,93', 'JG ESQUADRIAS METALICAS LTDA', '11.011.268/000145', 'CENTRO UNIVERSITÁRIO DE ADAMANTINA', '2022', 'CONTRATAÇÃO DE EMPRESA ESPECIALIZADA PARA REALIZAÇÃO DE OBRAS DE ACESSIBILIDADE E COBERTURA DE RAMPA NO CAMPUS II (BLOCO) DA UNIFAI']\n",
      "['Altinópolis', 'Em execução  atrasada', 'MUNICIPAL', '725000', 'CARVALHO CONSTRUTORA INTERIOR LTDA', '31.275.491/000107', 'PREFEITURA MUNICIPAL DE ALTINÓPOLIS', '2024', 'CONTRATAÇÃO DE EMPRESA VISANDO A CONSTRUÇÃO DA PRAÇA DA BÍBLIA']\n"
     ]
    }
   ],
   "source": [
    "# Exibir as linhas identificadas com problema inicialmente\n",
    "print(dados[4])\n",
    "print(dados[57])"
   ]
  },
  {
   "cell_type": "markdown",
   "id": "81244f59",
   "metadata": {},
   "source": [
    "# Transformando os dados tratados (lista de listas) em um DataFrame"
   ]
  },
  {
   "cell_type": "code",
   "execution_count": 46,
   "id": "0d6070aa",
   "metadata": {},
   "outputs": [
    {
     "data": {
      "text/html": [
       "<div>\n",
       "<style scoped>\n",
       "    .dataframe tbody tr th:only-of-type {\n",
       "        vertical-align: middle;\n",
       "    }\n",
       "\n",
       "    .dataframe tbody tr th {\n",
       "        vertical-align: top;\n",
       "    }\n",
       "\n",
       "    .dataframe thead th {\n",
       "        text-align: right;\n",
       "    }\n",
       "</style>\n",
       "<table border=\"1\" class=\"dataframe\">\n",
       "  <thead>\n",
       "    <tr style=\"text-align: right;\">\n",
       "      <th></th>\n",
       "      <th>﻿Município</th>\n",
       "      <th>Situação</th>\n",
       "      <th>Âmbito</th>\n",
       "      <th>Valor do Contrato</th>\n",
       "      <th>Contratada</th>\n",
       "      <th>CNPJ da Contratada</th>\n",
       "      <th>Contratante</th>\n",
       "      <th>Ano do Contrato</th>\n",
       "      <th>Descrição da Obra</th>\n",
       "    </tr>\n",
       "  </thead>\n",
       "  <tbody>\n",
       "    <tr>\n",
       "      <th>0</th>\n",
       "      <td>Adamantina</td>\n",
       "      <td>Em execução  no prazo</td>\n",
       "      <td>MUNICIPAL</td>\n",
       "      <td>149900</td>\n",
       "      <td>CONSTRUTORA LAIS LTDA</td>\n",
       "      <td>65.437.543/000116</td>\n",
       "      <td>CENTRO UNIVERSITÁRIO DE ADAMANTINA</td>\n",
       "      <td>2024</td>\n",
       "      <td>CONTRATAÇÃO DE EMPRESA DE ENGENHARIA ESPECIALI...</td>\n",
       "    </tr>\n",
       "    <tr>\n",
       "      <th>1</th>\n",
       "      <td>Adamantina</td>\n",
       "      <td>Em execução  no prazo</td>\n",
       "      <td>MUNICIPAL</td>\n",
       "      <td>190000</td>\n",
       "      <td>CONSTRUTORA LAIS LTDA</td>\n",
       "      <td>65.437.543/000116</td>\n",
       "      <td>CENTRO UNIVERSITÁRIO DE ADAMANTINA</td>\n",
       "      <td>2024</td>\n",
       "      <td>CONTRATAÇÃO DE EMPRESA ESPECIALIZADA PARA EXEC...</td>\n",
       "    </tr>\n",
       "    <tr>\n",
       "      <th>2</th>\n",
       "      <td>Adamantina</td>\n",
       "      <td>Em execução  no prazo</td>\n",
       "      <td>MUNICIPAL</td>\n",
       "      <td>171922,66</td>\n",
       "      <td>RYAN CARLOS LOPES SANTOS LTDA</td>\n",
       "      <td>45.144.840/000166</td>\n",
       "      <td>CENTRO UNIVERSITÁRIO DE ADAMANTINA</td>\n",
       "      <td>2023</td>\n",
       "      <td>CONTRATACAO DE EMPRESA ESPECIALIZADA PARA CONS...</td>\n",
       "    </tr>\n",
       "    <tr>\n",
       "      <th>3</th>\n",
       "      <td>Adamantina</td>\n",
       "      <td>Em execução  no prazo</td>\n",
       "      <td>MUNICIPAL</td>\n",
       "      <td>619313,93</td>\n",
       "      <td>JG ESQUADRIAS METALICAS LTDA</td>\n",
       "      <td>11.011.268/000145</td>\n",
       "      <td>CENTRO UNIVERSITÁRIO DE ADAMANTINA</td>\n",
       "      <td>2022</td>\n",
       "      <td>CONTRATAÇÃO DE EMPRESA ESPECIALIZADA PARA REAL...</td>\n",
       "    </tr>\n",
       "    <tr>\n",
       "      <th>4</th>\n",
       "      <td>Adamantina</td>\n",
       "      <td>Em execução  no prazo</td>\n",
       "      <td>MUNICIPAL</td>\n",
       "      <td>6778283,62</td>\n",
       "      <td>CONSTRUTORA ALPHA VITORIA LTDA</td>\n",
       "      <td>06.122.379/000199</td>\n",
       "      <td>CENTRO UNIVERSITÁRIO DE ADAMANTINA</td>\n",
       "      <td>2019</td>\n",
       "      <td>CONTRATAÇÃO DE EMPRESA ESPECIALIZADA PARA FORN...</td>\n",
       "    </tr>\n",
       "  </tbody>\n",
       "</table>\n",
       "</div>"
      ],
      "text/plain": [
       "   ﻿Município               Situação     Âmbito Valor do Contrato  \\\n",
       "0  Adamantina  Em execução  no prazo  MUNICIPAL            149900   \n",
       "1  Adamantina  Em execução  no prazo  MUNICIPAL            190000   \n",
       "2  Adamantina  Em execução  no prazo  MUNICIPAL         171922,66   \n",
       "3  Adamantina  Em execução  no prazo  MUNICIPAL         619313,93   \n",
       "4  Adamantina  Em execução  no prazo  MUNICIPAL        6778283,62   \n",
       "\n",
       "                       Contratada CNPJ da Contratada  \\\n",
       "0           CONSTRUTORA LAIS LTDA  65.437.543/000116   \n",
       "1           CONSTRUTORA LAIS LTDA  65.437.543/000116   \n",
       "2   RYAN CARLOS LOPES SANTOS LTDA  45.144.840/000166   \n",
       "3    JG ESQUADRIAS METALICAS LTDA  11.011.268/000145   \n",
       "4  CONSTRUTORA ALPHA VITORIA LTDA  06.122.379/000199   \n",
       "\n",
       "                          Contratante Ano do Contrato  \\\n",
       "0  CENTRO UNIVERSITÁRIO DE ADAMANTINA            2024   \n",
       "1  CENTRO UNIVERSITÁRIO DE ADAMANTINA            2024   \n",
       "2  CENTRO UNIVERSITÁRIO DE ADAMANTINA            2023   \n",
       "3  CENTRO UNIVERSITÁRIO DE ADAMANTINA            2022   \n",
       "4  CENTRO UNIVERSITÁRIO DE ADAMANTINA            2019   \n",
       "\n",
       "                                   Descrição da Obra  \n",
       "0  CONTRATAÇÃO DE EMPRESA DE ENGENHARIA ESPECIALI...  \n",
       "1  CONTRATAÇÃO DE EMPRESA ESPECIALIZADA PARA EXEC...  \n",
       "2  CONTRATACAO DE EMPRESA ESPECIALIZADA PARA CONS...  \n",
       "3  CONTRATAÇÃO DE EMPRESA ESPECIALIZADA PARA REAL...  \n",
       "4  CONTRATAÇÃO DE EMPRESA ESPECIALIZADA PARA FORN...  "
      ]
     },
     "execution_count": 46,
     "metadata": {},
     "output_type": "execute_result"
    }
   ],
   "source": [
    "df_tratado = pd.DataFrame(dados[1:], columns=dados[0])\n",
    "df_tratado.head()"
   ]
  }
 ],
 "metadata": {
  "kernelspec": {
   "display_name": "Python 3",
   "language": "python",
   "name": "python3"
  },
  "language_info": {
   "codemirror_mode": {
    "name": "ipython",
    "version": 3
   },
   "file_extension": ".py",
   "mimetype": "text/x-python",
   "name": "python",
   "nbconvert_exporter": "python",
   "pygments_lexer": "ipython3",
   "version": "3.12.2"
  }
 },
 "nbformat": 4,
 "nbformat_minor": 5
}
