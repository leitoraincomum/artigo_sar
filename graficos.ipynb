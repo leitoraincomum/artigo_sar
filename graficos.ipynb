{
 "cells": [
  {
   "cell_type": "code",
   "execution_count": null,
   "id": "73e34286",
   "metadata": {},
   "outputs": [],
   "source": [
    "import pandas as pd\n",
    "import matplotlib.pyplot as plt\n",
    "\n",
    "# Carregar base de dados\n",
    "df = pd.read_csv('/mnt/data/obras.csv', sep=';', encoding='utf-8-sig', on_bad_lines='skip')\n",
    "\n",
    "# Tratamento da coluna \"Valor do Contrato\" para conversão numérica\n",
    "df['Valor do Contrato'] = (\n",
    "    df['Valor do Contrato']\n",
    "    .str.replace('.', '', regex=False)\n",
    "    .str.replace(',', '.', regex=False)\n",
    "    .astype(float)\n",
    ")"
   ]
  },
  {
   "cell_type": "code",
   "execution_count": null,
   "id": "406c06cb",
   "metadata": {},
   "outputs": [],
   "source": [
    "#Distribuição das Obras por Situação\n",
    "plt.figure()\n",
    "df['Situação'].value_counts().plot(kind='bar')\n",
    "plt.title('Distribuição das Obras por Situação')\n",
    "plt.xlabel('Situação')\n",
    "plt.ylabel('Quantidade de Obras')\n",
    "plt.show()\n"
   ]
  },
  {
   "cell_type": "code",
   "execution_count": null,
   "metadata": {},
   "outputs": [],
   "source": [
    "#Investimento total por ambito\n",
    "plt.figure()\n",
    "df.groupby('Âmbito')['Valor do Contrato'].sum().plot(kind='bar')\n",
    "plt.title('Investimento Total por Âmbito')\n",
    "plt.xlabel('Âmbito')\n",
    "plt.ylabel('Valor Total (R$)')\n",
    "plt.show()"
   ]
  },
  {
   "cell_type": "code",
   "execution_count": null,
   "id": "163c2685",
   "metadata": {},
   "outputs": [],
   "source": [
    "#evolução do número de obras ao longo dos anos\n",
    "plt.figure()\n",
    "df.groupby('Âmbito')['Valor do Contrato'].sum().plot(kind='bar')\n",
    "plt.title('Investimento Total por Âmbito')\n",
    "plt.xlabel('Âmbito')\n",
    "plt.ylabel('Valor Total (R$)')\n",
    "plt.show()\n"
   ]
  },
  {
   "cell_type": "code",
   "execution_count": null,
   "metadata": {},
   "outputs": [],
   "source": [
    "#top 10 cidades com mais investimento\n",
    "plt.figure()\n",
    "df.groupby('Município')['Valor do Contrato'].sum().sort_values(ascending=False).head(10).plot(kind='bar')\n",
    "plt.title('Top 10 Municípios por Volume de Investimento')\n",
    "plt.xlabel('Município')\n",
    "plt.ylabel('Valor Total (R$)')\n",
    "plt.show()\n"
   ]
  },
  {
   "cell_type": "code",
   "execution_count": null,
   "id": "5af93024",
   "metadata": {},
   "outputs": [],
   "source": []
  }
 ],
 "metadata": {
  "language_info": {
   "name": "python"
  }
 },
 "nbformat": 4,
 "nbformat_minor": 5
}
